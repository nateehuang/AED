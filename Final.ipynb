{
 "cells": [
  {
   "cell_type": "markdown",
   "metadata": {},
   "source": [
    "# MATH-UA 2081.001 Final"
   ]
  },
  {
   "cell_type": "markdown",
   "metadata": {},
   "source": [
    "## Nate Huang "
   ]
  },
  {
   "cell_type": "markdown",
   "metadata": {},
   "source": [
    "### Problem 1."
   ]
  },
  {
   "cell_type": "markdown",
   "metadata": {},
   "source": [
    "(a)\n",
    "$$\n",
    "(x^Te)^2 = |<x, e>|^2\n",
    "$$\n",
    "By Cauchy-Schwarz inequality, \n",
    "$$\n",
    "(x^Te)^2 = |<x, e>|^2 \\le ||x||^2 \\cdot ||e||^2 =  n x^T x\n",
    "$$\n"
   ]
  },
  {
   "cell_type": "markdown",
   "metadata": {},
   "source": [
    "Then \n",
    "$$\n",
    "c(x) = \\frac{(x^Te)^2}{nx^Tx}\\le 1\n",
    "$$"
   ]
  },
  {
   "cell_type": "markdown",
   "metadata": {},
   "source": [
    "Now look at $\\hat{\\rho}(x)=\\frac{x^TRx}{(x^Te)^2}$.\n",
    "\n",
    "First since $R$ is a positive-semidefinite matrix, $x^TRx\\ge 0$ and $(x^Te)^2>0$ since $x\\ne 0$.\n",
    "\n",
    "So it is obvious that $\\hat{\\rho}(x)\\ge 0$. "
   ]
  },
  {
   "cell_type": "markdown",
   "metadata": {},
   "source": [
    "Note that $R=\\sum \\lambda_i(v_i v_i^T)$, then $x^TRx=\\sum \\lambda_i(x^Tv_i)^2$.\n",
    "\n",
    "By Parseval's indentity, $(x^Tv_i)^2 = x^Tx$. \n",
    "\n",
    "Therefore, $x^TRx=\\sum \\lambda_ix^Tx\\le \\lambda_n \\sum x^Tx$, where $\\lambda_n$ is the largest eigenvalue of $R$.\n",
    "\n",
    "Note that $tr(R) = \\sum \\lambda_i = n$, then $\\lambda_n\\le n$. \n",
    "\n",
    "Therefore, $x^TRx\\le nx^Tx$."
   ]
  },
  {
   "cell_type": "markdown",
   "metadata": {},
   "source": [
    "Now, \n",
    "$$\n",
    "\\hat{\\rho}(x)=\\frac{x^TRx}{(x^Te)^2}\\le \\frac{nx^Tx}{(x^Te)^2} = \\frac{1}{c(x)}\n",
    "$$\n"
   ]
  },
  {
   "cell_type": "markdown",
   "metadata": {},
   "source": [
    "In conclusion,\n",
    "$$\n",
    "0\\le \\hat{\\rho}(x)\\le \\frac{1}{c(x)}\n",
    "$$"
   ]
  },
  {
   "cell_type": "markdown",
   "metadata": {},
   "source": [
    "(b)."
   ]
  },
  {
   "cell_type": "markdown",
   "metadata": {},
   "source": [
    "$$\n",
    "\\rho(x)=\\frac{x^TRx-x^Tx}{(x^Te)^2-x^Tx} = \\frac{n\\frac{x^TRx}{(x^Te)^2}-\\frac{nx^Tx}{(x^Te)^2}}{n-\\frac{nx^Tx}{(x^Te)^2}}\n",
    "$$"
   ]
  },
  {
   "cell_type": "markdown",
   "metadata": {},
   "source": [
    "$\\implies$\n",
    "$$\n",
    "\\rho(x)=\\frac{n\\hat{\\rho}(x)-\\frac{1}{c(x)}}{n-\\frac{1}{c(x)}} = \\frac{nc(x)\\hat{\\rho}(x)-1}{nc(x)-1}\n",
    "$$"
   ]
  },
  {
   "cell_type": "markdown",
   "metadata": {},
   "source": [
    "Next"
   ]
  },
  {
   "cell_type": "markdown",
   "metadata": {},
   "source": [
    "$$\n",
    "\\hat{\\rho}(x)-\\rho(x)=\\hat{\\rho}(x)-\\frac{nc(x)\\hat{\\rho}(x)-1}{nc(x)-1}\n",
    "=\\frac{nc(x)\\hat{\\rho}(x)-\\hat{\\rho}(x)-nc(x)\\hat{\\rho}(x)+1}{nc(x)-1}\n",
    "=\\frac{1-\\hat{\\rho}(x)}{nc(x)-1}\n",
    "$$"
   ]
  },
  {
   "cell_type": "markdown",
   "metadata": {},
   "source": [
    "Since $\\hat{\\rho}(x)\\ge 0$,\n",
    "$$\n",
    "\\frac{1-\\hat{\\rho}(x)}{nc(x)-1}\\le \\frac{1}{nc(x)-1}\n",
    "$$\n",
    "and since $\\hat{\\rho}(x)\\le \\frac{1}{c(x)}$,\n",
    "$$\n",
    "\\frac{1-\\hat{\\rho}(x)}{nc(x)-1}\\ge \\frac{1-\\frac{1}{c(x)}}{nc(x)-1} = -\\frac{1-c(x)}{c(x)}\\frac{1}{nc(x)-1}\n",
    "$$"
   ]
  },
  {
   "cell_type": "markdown",
   "metadata": {},
   "source": [
    "In conclusion,\n",
    "$$\n",
    "-\\frac{1-c(x)}{c(x)}\\frac{1}{nc(x)-1}\n",
    "\\le \\frac{1-\\hat{\\rho}(x)}{nc(x)-1} \n",
    "\\le \\frac{1}{nc(x)-1}\n",
    "$$"
   ]
  },
  {
   "cell_type": "markdown",
   "metadata": {},
   "source": [
    "(c)"
   ]
  },
  {
   "cell_type": "markdown",
   "metadata": {},
   "source": [
    "Take the conclusion from (b)\n",
    "$$\n",
    "-\\frac{1-c(x)}{c(x)}\\frac{1}{nc(x)-1}\n",
    "\\le \\hat{\\rho}(x)-\\rho(x)\n",
    "\\le \\frac{1}{nc(x)-1}\n",
    "$$"
   ]
  },
  {
   "cell_type": "markdown",
   "metadata": {},
   "source": [
    "As $n\\to \\infty$, $\\frac{1}{nc(x)-1}\\to 0$, then $0\\le \\hat{\\rho}(x)-\\rho(x) \\le 0 \\implies \\hat{\\rho}(x)\\sim\\rho(x)$"
   ]
  },
  {
   "cell_type": "markdown",
   "metadata": {},
   "source": [
    "To see the speed of convergence,\n",
    "$$\n",
    "\\lim_{k\\to \\infty}\\frac{\\frac{1}{(k+1)c(x)-1}}{\\frac{1}{kc(x)-1}}\n",
    "=\\lim_{k\\to \\infty}\\frac{c(x)-\\frac{1}{k}}{(1+\\frac{1}{k})c(x)-\\frac{1}{k}}\n",
    "=1\n",
    "$$"
   ]
  },
  {
   "cell_type": "markdown",
   "metadata": {},
   "source": [
    "It converge sublinearly."
   ]
  },
  {
   "cell_type": "markdown",
   "metadata": {},
   "source": [
    "### Problem 2"
   ]
  },
  {
   "cell_type": "markdown",
   "metadata": {},
   "source": [
    "(a)"
   ]
  },
  {
   "cell_type": "markdown",
   "metadata": {},
   "source": [
    "The P&L of Vanilla Dispersion Trades is\n",
    "$$\n",
    "\\int_{0}^{T}[\\Gamma_{t, Basket}^{\\$}(\\sigma_{t,Basket}^2-\\sigma_{Basket}^{*2})-\\beta\\sum_{i=1}^nw_i\\Gamma_{t,i}^{\\$}(\\sigma_{t,i}^2-\\sigma_i^{*2})]dt\n",
    "$$\n",
    "where \n",
    "$$\n",
    "\\beta \\approx \\frac{\\sigma^{*}_{Basket}}{\\sum_{i=1}^nw_i\\sigma^*_i}\n",
    "$$\n",
    "where $\\sigma^*$ is the ATM implied volatilities."
   ]
  },
  {
   "cell_type": "code",
   "execution_count": 1,
   "metadata": {},
   "outputs": [],
   "source": [
    "import numpy as np\n",
    "import pandas as pd\n",
    "from scipy.stats import norm"
   ]
  },
  {
   "cell_type": "code",
   "execution_count": 2,
   "metadata": {},
   "outputs": [],
   "source": [
    "# read and clean the data\n",
    "options = pd.read_excel(\"2801.001.Sp20 Final_data.xlsx\", sheet_name=1)\n",
    "options = options.rename(columns={'Smile string: strike1; vol1; strike2; vol2;   etc. (in no particular order!)': 'IV'})\n",
    "\n",
    "history_price = pd.read_excel(\"2801.001.Sp20 Final_data.xlsx\", sheet_name=2)\n",
    "history_price = history_price.rename(columns={'ISIN':'date'})"
   ]
  },
  {
   "cell_type": "code",
   "execution_count": 3,
   "metadata": {},
   "outputs": [],
   "source": [
    "# use dictioanry to store strike price and implied vol\n",
    "options['IV'] = options['IV'].str.split(';').apply(\n",
    "    lambda x: {float(x[i]):float(x[i+1]) for i in range(0, len(x)-1, 2)})"
   ]
  },
  {
   "cell_type": "code",
   "execution_count": 4,
   "metadata": {},
   "outputs": [],
   "source": [
    "weight = history_price.iloc[0, 1:].rename('weight')"
   ]
  },
  {
   "cell_type": "code",
   "execution_count": 5,
   "metadata": {
    "scrolled": false
   },
   "outputs": [],
   "source": [
    "options = options.merge(weight, how = 'inner', left_on='ISIN', right_on=weight.index)"
   ]
  },
  {
   "cell_type": "markdown",
   "metadata": {},
   "source": [
    "Use the closet strike price from the list to estimate the implied volatility."
   ]
  },
  {
   "cell_type": "code",
   "execution_count": 6,
   "metadata": {},
   "outputs": [],
   "source": [
    "def find_closest_imp_vol(spot, imp_vol):\n",
    "    d = imp_vol\n",
    "    keys = np.array(list(d.keys()))\n",
    "    key = keys[(np.abs(keys-spot)).argmin()]\n",
    "    return d[key]"
   ]
  },
  {
   "cell_type": "code",
   "execution_count": 7,
   "metadata": {},
   "outputs": [],
   "source": [
    "# calculate all the ATM implied volatitility\n",
    "options[\"atmIV\"] = options.apply(lambda x: find_closest_imp_vol(x['Spot price'], x[\"IV\"]), axis=1)"
   ]
  },
  {
   "cell_type": "code",
   "execution_count": 8,
   "metadata": {},
   "outputs": [],
   "source": [
    "beta = options.loc[0, 'atmIV']/np.sum(options.loc[1:, 'atmIV']*options.loc[1:, 'weight']/100)"
   ]
  },
  {
   "cell_type": "code",
   "execution_count": 9,
   "metadata": {},
   "outputs": [
    {
     "name": "stdout",
     "output_type": "stream",
     "text": [
      "beta is 0.8365623281957845\n"
     ]
    }
   ],
   "source": [
    "print(f\"beta is {beta}\")"
   ]
  },
  {
   "cell_type": "code",
   "execution_count": 10,
   "metadata": {},
   "outputs": [],
   "source": [
    "# function that calculates dollar gamma\n",
    "def gamma_dollar(S, K, r, sigma, t):\n",
    "    d1 = (np.log(S / K) + (r + 0.5 * sigma ** 2) * t) / (sigma * np.sqrt(t))\n",
    "    phi = np.exp(-d1*d1/2)/np.sqrt(2*np.pi)\n",
    "    return S * phi / (2 * sigma * np.sqrt(t))"
   ]
  },
  {
   "cell_type": "code",
   "execution_count": 11,
   "metadata": {},
   "outputs": [],
   "source": [
    "hps = history_price.iloc[1:, :].set_index('date').sort_index()"
   ]
  },
  {
   "cell_type": "markdown",
   "metadata": {},
   "source": [
    "Use the ATM implied vol as an estimation of instantaneous volatility"
   ]
  },
  {
   "cell_type": "code",
   "execution_count": 12,
   "metadata": {},
   "outputs": [],
   "source": [
    "IV = options[[\"ISIN\", 'IV']].set_index('ISIN')\n",
    "# calculate all the instantaneous vol\n",
    "atmIV = hps.apply(lambda x: x.apply(lambda y: find_closest_imp_vol(y, IV.loc[x.name][0])), axis=0)"
   ]
  },
  {
   "cell_type": "code",
   "execution_count": 13,
   "metadata": {},
   "outputs": [],
   "source": [
    "op = options.set_index('ISIN')[['Spot price', '6M forward price', 'weight', 'atmIV']]"
   ]
  },
  {
   "cell_type": "code",
   "execution_count": 14,
   "metadata": {},
   "outputs": [],
   "source": [
    "# calculate all the gamma\n",
    "r = options.iloc[0, 4]\n",
    "lastday = hps.index[-1]\n",
    "T = ((lastday - hps.index).days + 1)/365.25\n",
    "gammas = hps.apply(lambda x: \n",
    "                   gamma_dollar(x, \n",
    "                                op.loc[x.name, \"Spot price\"], \n",
    "                                r, \n",
    "                                atmIV.loc[:, x.name], \n",
    "                                T), \n",
    "                   axis=0)"
   ]
  },
  {
   "cell_type": "code",
   "execution_count": 15,
   "metadata": {},
   "outputs": [],
   "source": [
    "# instantaneous vol - ATM implied vol\n",
    "var_dif = atmIV**2 - op['atmIV']**2\n",
    "# gamma * above\n",
    "gv = gammas * var_dif\n",
    "\n",
    "basket_dif = gv.loc[:, \"SX5E index\"]\n",
    "ind_dif = gv.loc[:, ~gv.columns.isin([\"SX5E index\"])]\n",
    "# beta * above\n",
    "bind_dif = beta*(ind_dif*weight).sum(axis=1)\n",
    "\n",
    "# use dicretized sum to estimate the integral\n",
    "PNL = (basket_dif - bind_dif).cumsum()"
   ]
  },
  {
   "cell_type": "code",
   "execution_count": 16,
   "metadata": {},
   "outputs": [
    {
     "name": "stdout",
     "output_type": "stream",
     "text": [
      "The daily PNL are \n",
      "date\n",
      "2011-04-29     -6.379516\n",
      "2011-05-02    -13.715957\n",
      "2011-05-03    -26.104407\n",
      "2011-05-04    -31.616196\n",
      "2011-05-05    -38.311419\n",
      "                 ...    \n",
      "2011-10-25   -279.883322\n",
      "2011-10-26   -282.681700\n",
      "2011-10-27   -282.804600\n",
      "2011-10-28   -287.771791\n",
      "2011-10-31   -287.943132\n",
      "Length: 132, dtype: float64\n"
     ]
    }
   ],
   "source": [
    "print(f\"The daily PNL are \")\n",
    "print(PNL)"
   ]
  },
  {
   "cell_type": "code",
   "execution_count": 17,
   "metadata": {},
   "outputs": [
    {
     "name": "stdout",
     "output_type": "stream",
     "text": [
      "The final PNL is -287.9431318854586\n"
     ]
    }
   ],
   "source": [
    "print(f\"The final PNL is {PNL[-1]}\")"
   ]
  },
  {
   "cell_type": "markdown",
   "metadata": {},
   "source": [
    "(b)"
   ]
  },
  {
   "cell_type": "markdown",
   "metadata": {},
   "source": [
    "Average correlation\n",
    "$$\n",
    "\\rho(x) = \\frac{x^TRx-x^Tx}{(x^Te)^2-x^Tx}\n",
    "$$"
   ]
  },
  {
   "cell_type": "code",
   "execution_count": 18,
   "metadata": {},
   "outputs": [],
   "source": [
    "ret = hps.pct_change().iloc[1:, 1:]"
   ]
  },
  {
   "cell_type": "code",
   "execution_count": 19,
   "metadata": {},
   "outputs": [],
   "source": [
    "realized_cov = ret.cov()\n",
    "realized_std = np.sqrt(np.diag(np.diag(realized_cov)))\n",
    "std_inv = np.linalg.inv(realized_std)\n",
    "realized_rho = std_inv @ np.array(realized_cov) @ std_inv"
   ]
  },
  {
   "cell_type": "markdown",
   "metadata": {},
   "source": [
    "Using the equal weight. Use the proxy:\n",
    "$$\n",
    "\\rho = \\frac{2}{n(n-1)}\\sum_{i<j}\\rho_{i,j}\n",
    "$$"
   ]
  },
  {
   "cell_type": "code",
   "execution_count": 20,
   "metadata": {},
   "outputs": [
    {
     "name": "stdout",
     "output_type": "stream",
     "text": [
      "The realized average correlation with equal weights is 0.6871218531556406.\n"
     ]
    }
   ],
   "source": [
    "n = realized_rho.shape[0]\n",
    "rho_ij_sum = (realized_rho.sum() - n)/2\n",
    "realized_avg_cor = 2*rho_ij_sum/(n*(n-1))\n",
    "print(f\"The realized average correlation with equal weights is {realized_avg_cor}.\")"
   ]
  },
  {
   "cell_type": "markdown",
   "metadata": {},
   "source": [
    "Using basket weight."
   ]
  },
  {
   "cell_type": "code",
   "execution_count": 21,
   "metadata": {},
   "outputs": [
    {
     "name": "stdout",
     "output_type": "stream",
     "text": [
      "The realized average correlation with basket weights is 0.7051965960097385.\n"
     ]
    }
   ],
   "source": [
    "w = weight[1:]\n",
    "realized_avg_cor = (w.T@realized_rho@w - w.T@w)/((w.T@np.ones(n))**2-w.T@w)\n",
    "print(f\"The realized average correlation with basket weights is {realized_avg_cor}.\")"
   ]
  },
  {
   "cell_type": "markdown",
   "metadata": {},
   "source": [
    "(c)"
   ]
  },
  {
   "cell_type": "markdown",
   "metadata": {},
   "source": [
    "Note that \n",
    "$$\n",
    "\\beta \\approx \\sqrt{\\rho_{ATMF}^{*}}\n",
    "$$\n",
    "Then \n",
    "$$\n",
    "\\rho_{ATMF}^{*} \\approx \\beta^2\n",
    "$$"
   ]
  },
  {
   "cell_type": "markdown",
   "metadata": {},
   "source": [
    "Using basket weight"
   ]
  },
  {
   "cell_type": "code",
   "execution_count": 22,
   "metadata": {},
   "outputs": [
    {
     "name": "stdout",
     "output_type": "stream",
     "text": [
      "The implied average correlation with basket weights is 0.6998365289563514.\n"
     ]
    }
   ],
   "source": [
    "implied_avg_cor = beta**2\n",
    "print(f\"The implied average correlation with basket weights is {implied_avg_cor}.\")"
   ]
  },
  {
   "cell_type": "markdown",
   "metadata": {},
   "source": [
    "(d)"
   ]
  },
  {
   "cell_type": "markdown",
   "metadata": {},
   "source": [
    "Note that \n",
    "$$\n",
    "payoff = \\sigma^2_{Basket}-\\beta\\sum_{i=1}^{n}w_i\\sigma_i^2\n",
    "$$\n",
    "where $\\sigma$ is the realized volatility and $$\\beta = \\frac{\\sigma_{Basket}^{\\star 2}}{\\sum_{i=1}^{n}w_i\\sigma_i^{\\star 2}}$$ where $\\sigma^{\\star}$ is the fair variance swap strikes."
   ]
  },
  {
   "cell_type": "markdown",
   "metadata": {},
   "source": [
    "Note that\n",
    "$$\n",
    "\\sigma^{\\star} \\approx \\frac{2e^{rT}}{T}[\\sum_{i=1}^{n}\\frac{p(K_i)}{K_i^2}\\Delta K_i + \\sum_{i=n+1}^{n+m}\\frac{c(K_i)}{K_i^2}\\Delta K_i]\n",
    "$$"
   ]
  },
  {
   "cell_type": "code",
   "execution_count": 23,
   "metadata": {},
   "outputs": [],
   "source": [
    "def call(S, K, tau, r, sigma):\n",
    "    '''price a call option by using the BS formula'''\n",
    "    \n",
    "    d1 = (np.log(S / K) + (r + 0.5 * sigma ** 2) * tau) / (sigma * np.sqrt(tau))\n",
    "    d2 = (np.log(S / K) + (r - 0.5 * sigma ** 2) * tau) / (sigma * np.sqrt(tau))    \n",
    "    price = S * norm.cdf(d1) - K * np.exp(-r * tau) * norm.cdf(d2)\n",
    "    \n",
    "    return price\n",
    "\n",
    "def put(S, K, tau, r, sigma):\n",
    "    \n",
    "    d1 = (np.log(S / K) + (r + 0.5 * sigma ** 2) * tau) / (sigma * np.sqrt(tau))\n",
    "    d2 = (np.log(S / K) + (r - 0.5 * sigma ** 2) * tau) / (sigma * np.sqrt(tau))    \n",
    "    price = K * np.exp(-r * tau) * norm.cdf(-d2) - S * norm.cdf(-d1)\n",
    "    \n",
    "    return price"
   ]
  },
  {
   "cell_type": "code",
   "execution_count": 24,
   "metadata": {},
   "outputs": [],
   "source": [
    "# get the forward price\n",
    "F = op[\"6M forward price\"]"
   ]
  },
  {
   "cell_type": "code",
   "execution_count": 25,
   "metadata": {},
   "outputs": [],
   "source": [
    "# get all the strikes from the IV dictionary\n",
    "strikes = pd.DataFrame(IV.apply(lambda x: sorted(list(x[0].keys())), axis=1).tolist(), index = IV.index)\n",
    "# get the step from strike to strike\n",
    "s_diff = strikes.diff(axis=1)\n",
    "# the first strike use the same deltaK as the second one\n",
    "s_diff.iloc[:, 0] = s_diff.iloc[:, 1]"
   ]
  },
  {
   "cell_type": "code",
   "execution_count": 26,
   "metadata": {},
   "outputs": [],
   "source": [
    "# get the spot price at the beginning\n",
    "spots = history_price.iloc[-1, 1:].rename('spot')"
   ]
  },
  {
   "cell_type": "code",
   "execution_count": 27,
   "metadata": {},
   "outputs": [],
   "source": [
    "# calculate the fraction (option price)/K^2\n",
    "fact = strikes.apply(lambda x: \n",
    "              x.apply(lambda y: \n",
    "                      call(spots[x.name], y, 1, r, IV.loc[x.name][0][y])/(y**2) if y >F[x.name]\n",
    "                      else put(spots[x.name], y, 1, r, IV.loc[x.name][0][y])/(y**2) if y<=F[x.name] \n",
    "                      else 0), axis=1)\n",
    "\n",
    "# calculate the fair strike\n",
    "fair_strikes = (fact*s_diff).sum(axis=1)*2*np.exp(r)\n",
    "\n",
    "# calculate the beta\n",
    "beta = fair_strikes[\"SX5E index\"]/(weight[1:]*fair_strikes[1:]).sum()"
   ]
  },
  {
   "cell_type": "code",
   "execution_count": 28,
   "metadata": {},
   "outputs": [
    {
     "name": "stdout",
     "output_type": "stream",
     "text": [
      "The final PNL is 0.0001980874229083672.\n"
     ]
    }
   ],
   "source": [
    "sigma2_basket = hps.pct_change().iloc[1:, 0].std()**2\n",
    "PNL = sigma2_basket - beta*(pd.Series(np.diag(realized_cov), index=realized_cov.index)*w).sum()\n",
    "print(f\"The final PNL is {PNL}.\")"
   ]
  }
 ],
 "metadata": {
  "kernelspec": {
   "display_name": "Python 3",
   "language": "python",
   "name": "python3"
  },
  "language_info": {
   "codemirror_mode": {
    "name": "ipython",
    "version": 3
   },
   "file_extension": ".py",
   "mimetype": "text/x-python",
   "name": "python",
   "nbconvert_exporter": "python",
   "pygments_lexer": "ipython3",
   "version": "3.8.3"
  }
 },
 "nbformat": 4,
 "nbformat_minor": 4
}
