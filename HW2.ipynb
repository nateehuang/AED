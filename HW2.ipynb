{
 "cells": [
  {
   "cell_type": "markdown",
   "metadata": {},
   "source": [
    "# MATH-GA 2801.001 Advanced Topics in Equity Derivatives - HW2"
   ]
  },
  {
   "cell_type": "code",
   "execution_count": 1,
   "metadata": {},
   "outputs": [],
   "source": [
    "import numpy as np\n",
    "import pandas as pd\n",
    "from scipy.stats import norm\n",
    "from scipy.optimize import minimize\n",
    "from scipy.optimize import curve_fit\n",
    "import matplotlib.pyplot as plt \n",
    "from mpl_toolkits.mplot3d import Axes3D\n",
    "import matplotlib.cm as cm"
   ]
  },
  {
   "cell_type": "markdown",
   "metadata": {},
   "source": [
    "---"
   ]
  },
  {
   "cell_type": "markdown",
   "metadata": {},
   "source": [
    "## HW2-1 (a)"
   ]
  },
  {
   "cell_type": "markdown",
   "metadata": {},
   "source": [
    "Estimate the market price of the 5% call spread (i.e. with strikes ATM and 5% OTM). What\n",
    "about the 5% put spread?"
   ]
  },
  {
   "cell_type": "code",
   "execution_count": 2,
   "metadata": {},
   "outputs": [],
   "source": [
    "current = pd.read_csv(\"HW2_data.csv\", header=None).iloc[:4, :2]\n",
    "options = pd.read_csv(\"HW2_data.csv\", header=None).iloc[5:, :]"
   ]
  },
  {
   "cell_type": "code",
   "execution_count": 3,
   "metadata": {},
   "outputs": [
    {
     "data": {
      "text/html": [
       "<div>\n",
       "<style scoped>\n",
       "    .dataframe tbody tr th:only-of-type {\n",
       "        vertical-align: middle;\n",
       "    }\n",
       "\n",
       "    .dataframe tbody tr th {\n",
       "        vertical-align: top;\n",
       "    }\n",
       "\n",
       "    .dataframe thead th {\n",
       "        text-align: right;\n",
       "    }\n",
       "</style>\n",
       "<table border=\"1\" class=\"dataframe\">\n",
       "  <thead>\n",
       "    <tr style=\"text-align: right;\">\n",
       "      <th></th>\n",
       "      <th>1</th>\n",
       "    </tr>\n",
       "    <tr>\n",
       "      <th>0</th>\n",
       "      <th></th>\n",
       "    </tr>\n",
       "  </thead>\n",
       "  <tbody>\n",
       "    <tr>\n",
       "      <th>NDX Index</th>\n",
       "      <td>5448</td>\n",
       "    </tr>\n",
       "    <tr>\n",
       "      <th>Interest</th>\n",
       "      <td>1.25%</td>\n",
       "    </tr>\n",
       "    <tr>\n",
       "      <th>Forward</th>\n",
       "      <td>5460</td>\n",
       "    </tr>\n",
       "    <tr>\n",
       "      <th>Tenor</th>\n",
       "      <td>349</td>\n",
       "    </tr>\n",
       "  </tbody>\n",
       "</table>\n",
       "</div>"
      ],
      "text/plain": [
       "               1\n",
       "0               \n",
       "NDX Index   5448\n",
       "Interest   1.25%\n",
       "Forward     5460\n",
       "Tenor        349"
      ]
     },
     "execution_count": 3,
     "metadata": {},
     "output_type": "execute_result"
    }
   ],
   "source": [
    "current = current.set_index(0)\n",
    "current"
   ]
  },
  {
   "cell_type": "markdown",
   "metadata": {},
   "source": [
    "The spot price is \\\\$5448. "
   ]
  },
  {
   "cell_type": "code",
   "execution_count": 4,
   "metadata": {},
   "outputs": [],
   "source": [
    "col = options.iloc[0,:]\n",
    "options.columns = col\n",
    "call_options = options.iloc[1:,:6]\n",
    "put_options = options.iloc[1:, 6:]"
   ]
  },
  {
   "cell_type": "code",
   "execution_count": 5,
   "metadata": {},
   "outputs": [],
   "source": [
    "for option in [call_options, put_options]:\n",
    "    for column in [\"Strike\", \"Mid\"]:\n",
    "        option[column] = pd.to_numeric(option[column])"
   ]
  },
  {
   "cell_type": "code",
   "execution_count": 6,
   "metadata": {},
   "outputs": [],
   "source": [
    "def call(F, K, tau, r, sigma):\n",
    "    '''price a call option by using the BS formula'''\n",
    "    \n",
    "    d1 = (np.log(F / K) + 0.5 * sigma ** 2 * tau) / (sigma * np.sqrt(tau))\n",
    "    d2 = (np.log(F / K) - 0.5 * sigma ** 2 * tau) / (sigma * np.sqrt(tau))    \n",
    "    price = (F * norm.cdf(d1) - K  * norm.cdf(d2)) * np.exp(-r * tau)\n",
    "    \n",
    "    return price\n",
    "\n",
    "def put(F, K, tau, r, sigma):\n",
    "        \n",
    "    d1 = (np.log(F / K) + 0.5 * sigma ** 2 * tau) / (sigma * np.sqrt(tau))\n",
    "    d2 = (np.log(F / K) - 0.5 * sigma ** 2 * tau) / (sigma * np.sqrt(tau))    \n",
    "    price = (K  * norm.cdf(-d2) - F * norm.cdf(-d1)) * np.exp(-r * tau)\n",
    "    \n",
    "    return price"
   ]
  },
  {
   "cell_type": "code",
   "execution_count": 7,
   "metadata": {},
   "outputs": [],
   "source": [
    "def linear_vol(target, lower, upper, lower_vol, upper_vol):\n",
    "    # linearly interpolate implied volatility\n",
    "    return lower_vol*(upper-target)/(upper-lower) + upper_vol*(target-lower)/(upper-lower)"
   ]
  },
  {
   "cell_type": "markdown",
   "metadata": {},
   "source": [
    "To get the ATM options price, we use linear interpolation to get the implied volatility for strike price \\$5448.\n",
    "\n",
    "Read from the table, \\\\$5448 is between \\\\$5400 and \\\\$5450. Since the prices are close."
   ]
  },
  {
   "cell_type": "code",
   "execution_count": 8,
   "metadata": {},
   "outputs": [],
   "source": [
    "r = 0.0125\n",
    "t = 1\n",
    "F = 5460\n",
    "S = 5448"
   ]
  },
  {
   "cell_type": "code",
   "execution_count": 9,
   "metadata": {},
   "outputs": [],
   "source": [
    "ATM_imp_vol = linear_vol(5448, 5400, 5450, 0.156, 0.154)"
   ]
  },
  {
   "cell_type": "code",
   "execution_count": 10,
   "metadata": {},
   "outputs": [],
   "source": [
    "ATM_call = call(F, S, t, r, ATM_imp_vol)\n",
    "ATM_put = put(F, S, t, r, ATM_imp_vol)"
   ]
  },
  {
   "cell_type": "code",
   "execution_count": 11,
   "metadata": {},
   "outputs": [
    {
     "name": "stdout",
     "output_type": "stream",
     "text": [
      "5% OTM strike price for call option is  5720.400000000001\n"
     ]
    }
   ],
   "source": [
    "print('5% OTM strike price for call option is ', (S*1.05))"
   ]
  },
  {
   "cell_type": "code",
   "execution_count": 12,
   "metadata": {},
   "outputs": [],
   "source": [
    "OTM_imp_vol_call = linear_vol(S*1.05, 5700, 5750, 0.142, 0.14)\n",
    "call_OTM5 = call(F, S*1.05, t, r, OTM_imp_vol_call)"
   ]
  },
  {
   "cell_type": "code",
   "execution_count": 13,
   "metadata": {},
   "outputs": [],
   "source": [
    "call_spread = ATM_call - call_OTM5"
   ]
  },
  {
   "cell_type": "code",
   "execution_count": 14,
   "metadata": {},
   "outputs": [
    {
     "name": "stdout",
     "output_type": "stream",
     "text": [
      "5% OTM strike price for put option is  5175.599999999999\n"
     ]
    }
   ],
   "source": [
    "print('5% OTM strike price for put option is ', (S*0.95))"
   ]
  },
  {
   "cell_type": "code",
   "execution_count": 15,
   "metadata": {},
   "outputs": [],
   "source": [
    "OTM_imp_vol_put = linear_vol(S*0.95, 5150, 5200, 0.17, 0.167)\n",
    "put_OTM5 = put(F, S*.95, t, r, OTM_imp_vol_put)"
   ]
  },
  {
   "cell_type": "code",
   "execution_count": 16,
   "metadata": {
    "scrolled": true
   },
   "outputs": [],
   "source": [
    "put_spread = ATM_put-put_OTM5"
   ]
  },
  {
   "cell_type": "code",
   "execution_count": 17,
   "metadata": {},
   "outputs": [],
   "source": [
    "spreads = pd.DataFrame([call_spread, put_spread], index=[\"Call\", \"Put\"], columns=['ATM & 5% OTM spread']).T"
   ]
  },
  {
   "cell_type": "code",
   "execution_count": 18,
   "metadata": {},
   "outputs": [
    {
     "data": {
      "text/html": [
       "<div>\n",
       "<style scoped>\n",
       "    .dataframe tbody tr th:only-of-type {\n",
       "        vertical-align: middle;\n",
       "    }\n",
       "\n",
       "    .dataframe tbody tr th {\n",
       "        vertical-align: top;\n",
       "    }\n",
       "\n",
       "    .dataframe thead th {\n",
       "        text-align: right;\n",
       "    }\n",
       "</style>\n",
       "<table border=\"1\" class=\"dataframe\">\n",
       "  <thead>\n",
       "    <tr style=\"text-align: right;\">\n",
       "      <th></th>\n",
       "      <th>Call</th>\n",
       "      <th>Put</th>\n",
       "    </tr>\n",
       "  </thead>\n",
       "  <tbody>\n",
       "    <tr>\n",
       "      <th>ATM &amp; 5% OTM spread</th>\n",
       "      <td>137.8742</td>\n",
       "      <td>95.184568</td>\n",
       "    </tr>\n",
       "  </tbody>\n",
       "</table>\n",
       "</div>"
      ],
      "text/plain": [
       "                         Call        Put\n",
       "ATM & 5% OTM spread  137.8742  95.184568"
      ]
     },
     "execution_count": 18,
     "metadata": {},
     "output_type": "execute_result"
    }
   ],
   "source": [
    "spreads"
   ]
  },
  {
   "cell_type": "markdown",
   "metadata": {},
   "source": [
    " "
   ]
  },
  {
   "cell_type": "markdown",
   "metadata": {},
   "source": [
    "## HW2-1 (b)"
   ]
  },
  {
   "cell_type": "markdown",
   "metadata": {},
   "source": [
    "If you were to price the spreads in the Black-Scholes model using a single volatility parameter 𝜎, what\n",
    "value of 𝜎 would match the theoretical price with the market price? Comment on your results."
   ]
  },
  {
   "cell_type": "markdown",
   "metadata": {},
   "source": [
    "---"
   ]
  },
  {
   "cell_type": "code",
   "execution_count": 19,
   "metadata": {},
   "outputs": [],
   "source": [
    "vol = np.arange(1e-4, 3, 0.0001)"
   ]
  },
  {
   "cell_type": "code",
   "execution_count": 20,
   "metadata": {},
   "outputs": [],
   "source": [
    "call_ps = np.zeros(vol.shape[0])\n",
    "for i, v in enumerate(vol):\n",
    "    # call spreads\n",
    "    call_ps[i] = call(F, S, t, r, v)-call(F, S*1.05, t, r, v)"
   ]
  },
  {
   "cell_type": "code",
   "execution_count": 21,
   "metadata": {},
   "outputs": [
    {
     "data": {
      "image/png": "[encoded data removed]",
      "text/plain": [
       "<Figure size 432x288 with 1 Axes>"
      ]
     },
     "metadata": {
      "needs_background": "light"
     },
     "output_type": "display_data"
    }
   ],
   "source": [
    "plt.plot(vol, call_ps)\n",
    "plt.title(\"Call Spread\")\n",
    "plt.ylabel(\"Price($)\")\n",
    "plt.xlabel(\"Implied Volatitility\");"
   ]
  },
  {
   "cell_type": "markdown",
   "metadata": {},
   "source": [
    "We can see that no every spread can be expressed in volatility"
   ]
  },
  {
   "cell_type": "code",
   "execution_count": 22,
   "metadata": {},
   "outputs": [
    {
     "name": "stdout",
     "output_type": "stream",
     "text": [
      "The maximum of above is  112.0133789752216\n"
     ]
    }
   ],
   "source": [
    "print(\"The maximum of above is \", max(call_ps))"
   ]
  },
  {
   "cell_type": "markdown",
   "metadata": {},
   "source": [
    "Therefore, we cannot get the market call spread \\\\$137.8742 from a single volatility."
   ]
  },
  {
   "cell_type": "code",
   "execution_count": 23,
   "metadata": {},
   "outputs": [],
   "source": [
    "put_ps = np.zeros(vol.shape[0])\n",
    "for i, v in enumerate(vol):\n",
    "    # put spreads\n",
    "    put_ps[i] = put(F, S, t, r, v)-put(F, S*0.95, t, r, v)"
   ]
  },
  {
   "cell_type": "code",
   "execution_count": 24,
   "metadata": {
    "scrolled": true
   },
   "outputs": [
    {
     "data": {
      "image/png": "[encoded data removed]",
      "text/plain": [
       "<Figure size 432x288 with 1 Axes>"
      ]
     },
     "metadata": {
      "needs_background": "light"
     },
     "output_type": "display_data"
    }
   ],
   "source": [
    "plt.plot(vol, put_ps)\n",
    "plt.title(\"Put Spread\")\n",
    "plt.ylabel(\"Price($)\")\n",
    "plt.xlabel(\"Implied Volatitility\");"
   ]
  },
  {
   "cell_type": "markdown",
   "metadata": {},
   "source": [
    "On the other hand, we can get market put spread in a single implied volatitility."
   ]
  },
  {
   "cell_type": "code",
   "execution_count": 25,
   "metadata": {},
   "outputs": [],
   "source": [
    "the_put_vol = minimize(lambda x : np.abs(put(F, S, t, r, x) - put(F, S*0.95, t, r, x)-put_spread), x0=0.03).x[0]"
   ]
  },
  {
   "cell_type": "code",
   "execution_count": 26,
   "metadata": {},
   "outputs": [
    {
     "name": "stdout",
     "output_type": "stream",
     "text": [
      "When implied volatility is 6.616891805028207%, the theoretical spread matches the market spread.\n"
     ]
    }
   ],
   "source": [
    "print(f\"When implied volatility is {the_put_vol*100}%, the theoretical spread matches the market spread.\")"
   ]
  },
  {
   "cell_type": "markdown",
   "metadata": {},
   "source": [
    "Comment:The call spread as a function of volatility has a maximum value \\\\$112. The ATM and 5\\% OTM call spread is around \\\\$138, which means we cannot find the coreponsed volatility for such a spread. However, the put spread can be priced with a single volatility parameter. As we show above, 6.6\\% is the volatility that match market put spread. However, compared it with the market implied volatility, which is around 14-15\\%, this is way off.\n",
    "\n"
   ]
  },
  {
   "cell_type": "markdown",
   "metadata": {},
   "source": [
    "---"
   ]
  },
  {
   "cell_type": "markdown",
   "metadata": {},
   "source": [
    "## HW2-2 (a)"
   ]
  },
  {
   "cell_type": "markdown",
   "metadata": {},
   "source": [
    "Using the numerical package of your choice, calibrate the parameters of the SVI model\n",
    "against the market-implied volatility data. Show a comparative graph of the SVI curve and the actual\n",
    "implied volatility data points."
   ]
  },
  {
   "cell_type": "code",
   "execution_count": 27,
   "metadata": {},
   "outputs": [],
   "source": [
    "def SVI(X, a, b, rho, m, s):\n",
    "    return np.sqrt(a+b*(rho*(np.log(X)-m)+np.sqrt((np.log(X)-m)**2+s**2)))"
   ]
  },
  {
   "cell_type": "code",
   "execution_count": 28,
   "metadata": {},
   "outputs": [],
   "source": [
    "KF = np.array(call_options[\"Strike\"])/5460"
   ]
  },
  {
   "cell_type": "code",
   "execution_count": 29,
   "metadata": {},
   "outputs": [],
   "source": [
    "market_vol = (np.array(call_options[\"Implied Vol. %\"].str.strip('%').astype(float)))/100"
   ]
  },
  {
   "cell_type": "code",
   "execution_count": 30,
   "metadata": {},
   "outputs": [],
   "source": [
    "popt, pcov = curve_fit(SVI, KF, market_vol, bounds=([0,0, -1, -np.inf, 0], [np.inf, np.inf, 1, np.inf, np.inf]),)"
   ]
  },
  {
   "cell_type": "code",
   "execution_count": 31,
   "metadata": {},
   "outputs": [],
   "source": [
    "a, b, rho, m, s = popt"
   ]
  },
  {
   "cell_type": "code",
   "execution_count": 32,
   "metadata": {},
   "outputs": [
    {
     "name": "stdout",
     "output_type": "stream",
     "text": [
      "The calibrated parameters of the SVI model is a=0.011140419053628964, b=0.048434365896675796, rho=-0.9999999999999999, m=0.11655027136061491, s=0.08588802353877122\n"
     ]
    }
   ],
   "source": [
    "print(f\"The calibrated parameters of the SVI model is a={a}, b={b}, rho={rho}, m={m}, s={s}\")"
   ]
  },
  {
   "cell_type": "code",
   "execution_count": 33,
   "metadata": {},
   "outputs": [
    {
     "data": {
      "image/png": "[encoded data removed]",
      "text/plain": [
       "<Figure size 432x288 with 1 Axes>"
      ]
     },
     "metadata": {
      "needs_background": "light"
     },
     "output_type": "display_data"
    }
   ],
   "source": [
    "x = np.arange(0.1, 2.01, 0.01)\n",
    "plt.plot(x, SVI(x, a, b, rho, m, s), label=\"SVI\")\n",
    "plt.plot(call_options[\"Strike\"]/5460, call_options[\"Implied Vol. %\"].str.strip('%').astype(float)/100, label=\"Call\")\n",
    "plt.plot(call_options[\"Strike\"]/5460, put_options[\"Implied Vol. %\"].str.strip('%').astype(float)/100, label=\"Put\")\n",
    "plt.legend()\n",
    "plt.title(\"Forward Moneyness vs. Implied Volatility\")\n",
    "plt.ylabel(\"Implied Volatility\")\n",
    "plt.xlabel(\"Forward Moneyness\");"
   ]
  },
  {
   "cell_type": "markdown",
   "metadata": {},
   "source": [
    "---"
   ]
  },
  {
   "cell_type": "markdown",
   "metadata": {},
   "source": [
    "## HW2-2 (b)"
   ]
  },
  {
   "cell_type": "markdown",
   "metadata": {},
   "source": [
    "Compute or estimate the price of an at-the-money digital call option paying off $1 if in one year NDX\n",
    "is greater than its current spot level, and zero otherwise: (i) in the Black-Scholes model, (ii) using ±1%\n",
    "call spreads, (iii) using the smile-adjusted formula on page 19"
   ]
  },
  {
   "cell_type": "markdown",
   "metadata": {},
   "source": [
    "(i)"
   ]
  },
  {
   "cell_type": "markdown",
   "metadata": {},
   "source": [
    "The spot price is \\\\$5448."
   ]
  },
  {
   "cell_type": "code",
   "execution_count": 34,
   "metadata": {},
   "outputs": [],
   "source": [
    "def digital_call(F, K, T, r, sigma):\n",
    "    d2 = (np.log(F / K) - 0.5 * sigma ** 2 * T) / (sigma * np.sqrt(T)) \n",
    "    return np.exp(-r*T)*norm.cdf(d2)"
   ]
  },
  {
   "cell_type": "code",
   "execution_count": 35,
   "metadata": {},
   "outputs": [],
   "source": [
    "DBS = digital_call(5460, 5448, t, r, SVI(5448/5460, a, b, rho, m, s))"
   ]
  },
  {
   "cell_type": "code",
   "execution_count": 36,
   "metadata": {},
   "outputs": [
    {
     "name": "stdout",
     "output_type": "stream",
     "text": [
      "The digital call price from BS is  0.46889024554520764\n"
     ]
    }
   ],
   "source": [
    "print(\"The digital call price from BS is \", DBS)"
   ]
  },
  {
   "cell_type": "markdown",
   "metadata": {},
   "source": [
    "(ii)"
   ]
  },
  {
   "cell_type": "code",
   "execution_count": 37,
   "metadata": {},
   "outputs": [],
   "source": [
    "ATM_call = call(5460, 5448, t, r, SVI(5448/5460, a, b, rho, m, s))"
   ]
  },
  {
   "cell_type": "code",
   "execution_count": 38,
   "metadata": {},
   "outputs": [
    {
     "name": "stdout",
     "output_type": "stream",
     "text": [
      "The -1% strike is  5393.5199999999995\n",
      "The +1% strike is  5502.4800000000005\n"
     ]
    }
   ],
   "source": [
    "print(\"The -1% strike is \", 5448*.99)\n",
    "print(\"The +1% strike is \", 5448*1.01)"
   ]
  },
  {
   "cell_type": "code",
   "execution_count": 39,
   "metadata": {},
   "outputs": [],
   "source": [
    "imp_vol_99 = SVI(5448*.99/5460, a, b, rho, m, s)\n",
    "imp_vol_101 = SVI(5448*1.01/5460, a, b, rho, m, s)\n",
    "call_99 = call(5460, 5448*.99, t, r, imp_vol_99)\n",
    "call_101 = call(5460, 5448*1.01, t, r, imp_vol_101)"
   ]
  },
  {
   "cell_type": "code",
   "execution_count": 40,
   "metadata": {},
   "outputs": [],
   "source": [
    "spread99 = call_99-ATM_call\n",
    "spread101 = ATM_call - call_101"
   ]
  },
  {
   "cell_type": "code",
   "execution_count": 41,
   "metadata": {},
   "outputs": [
    {
     "name": "stdout",
     "output_type": "stream",
     "text": [
      "The ATM digital call option price using call spread is  0.5799752297874559\n"
     ]
    }
   ],
   "source": [
    "print(\"The ATM digital call option price using call spread is \", (spread99+spread101)/(2*5448*.01))"
   ]
  },
  {
   "cell_type": "markdown",
   "metadata": {},
   "source": [
    "(iii)"
   ]
  },
  {
   "cell_type": "markdown",
   "metadata": {},
   "source": [
    "$$\n",
    "D(S,K,r,T)=D_{BS}(S,K,r,T,\\sigma^*(K,T))-V_{BS}(S,K,r, T, \\sigma^*(K,T))\\frac{\\partial\\sigma^*}{\\partial K}\n",
    "$$"
   ]
  },
  {
   "cell_type": "markdown",
   "metadata": {},
   "source": [
    "$$\n",
    "V_{BS}(S,K,r, T, \\sigma^*(K,T))=Se^{-qT}N'(d_1)\\sqrt{T}=Fe^{-rT}N'(d_1)\\sqrt{T}\n",
    "$$"
   ]
  },
  {
   "cell_type": "markdown",
   "metadata": {},
   "source": [
    "$$\n",
    "\\frac{\\partial\\sigma^*}{\\partial K}=\\frac{b[\\rho+\\frac{ln K_F -m}{\\sqrt{(ln K_F-m)^2+s^2}}]}{2K\\sigma^*}\n",
    "$$"
   ]
  },
  {
   "cell_type": "code",
   "execution_count": 42,
   "metadata": {},
   "outputs": [],
   "source": [
    "def vega(F, K, r, T, sigma):\n",
    "    d1 = (np.log(F / K) + 0.5 * sigma ** 2 * T) / (sigma * np.sqrt(T))\n",
    "    N_prime = np.exp(-d1**2/2)/np.sqrt(2*np.pi)\n",
    "    return np.exp(-r*T)*F*N_prime*np.sqrt(T)"
   ]
  },
  {
   "cell_type": "code",
   "execution_count": 43,
   "metadata": {},
   "outputs": [],
   "source": [
    "def volK(F, K, a, b, rho, m, s):\n",
    "    LKF= np.log(K/F)\n",
    "    temp = (LKF-m)/np.sqrt((LKF-m)**2+s**2)   \n",
    "    top = b*(rho+temp)\n",
    "    return top/(2*K*SVI(K/F, a, b, rho, m, s))"
   ]
  },
  {
   "cell_type": "code",
   "execution_count": 44,
   "metadata": {},
   "outputs": [],
   "source": [
    "VBS = vega(5460, 5448, r, t, SVI(5448/5460, a, b, rho, m, s))\n",
    "vol_K = volK(5460, 5448, a, b, rho, m, s)"
   ]
  },
  {
   "cell_type": "code",
   "execution_count": 45,
   "metadata": {},
   "outputs": [
    {
     "name": "stdout",
     "output_type": "stream",
     "text": [
      "The ATM digital call option price using smile-adjusted formula is  0.5801822019473606\n"
     ]
    }
   ],
   "source": [
    "print(\"The ATM digital call option price using smile-adjusted formula is \", DBS-VBS*vol_K)"
   ]
  },
  {
   "cell_type": "markdown",
   "metadata": {},
   "source": [
    " "
   ]
  },
  {
   "cell_type": "markdown",
   "metadata": {},
   "source": [
    "(c)"
   ]
  },
  {
   "cell_type": "markdown",
   "metadata": {},
   "source": [
    "Graph the implied distribution corresponding to the SVI model calibration."
   ]
  },
  {
   "cell_type": "markdown",
   "metadata": {},
   "source": [
    "Numerically estimate $\\frac{\\partial^2\\sigma^*}{\\partial K^2}$"
   ]
  },
  {
   "cell_type": "code",
   "execution_count": 46,
   "metadata": {},
   "outputs": [],
   "source": [
    "def volKK(F, K, a, b, rho, m, s, step=1e-6):\n",
    "    '''\n",
    "    numerically estimate second derivative\n",
    "    '''\n",
    "    pre = volK(F, K-step/2, a, b, rho, m, s)\n",
    "    nex = volK(F, K+step/2, a, b, rho, m, s)\n",
    "    return (nex-pre)/step"
   ]
  },
  {
   "cell_type": "code",
   "execution_count": 47,
   "metadata": {},
   "outputs": [],
   "source": [
    "def imp_dist(F, K, r, T, a=a, b=b, rho=rho, m=m, s=s, step=1e-10):\n",
    "    '''\n",
    "    compute the impied distribution density\n",
    "    '''\n",
    "    KF = K/F\n",
    "    sigma = SVI(KF, a, b, rho, m, s)\n",
    "    d1 = (np.log(F / K) + 0.5 * sigma ** 2 * T) / (sigma * np.sqrt(T))\n",
    "    d2 = (np.log(F / K) - 0.5 * sigma ** 2 * T) / (sigma * np.sqrt(T))\n",
    "    dsdK = volK(F, K, a, b, rho, m, s)\n",
    "    dssdKK = volKK(F, K, a, b, rho, m, s, step)\n",
    "    N_prime = np.exp(-d2**2/2)/np.sqrt(2*np.pi)\n",
    "    factor = N_prime/(K*sigma*np.sqrt(T))\n",
    "    term1 = 2*d1*K*dsdK*np.sqrt(T)\n",
    "    term2 = d1*d2*(K*dsdK*np.sqrt(T))**2\n",
    "    term3 = (K**2)*dssdKK*sigma*T\n",
    "    return factor*(1+term1+term2+term3)"
   ]
  },
  {
   "cell_type": "code",
   "execution_count": 48,
   "metadata": {},
   "outputs": [],
   "source": [
    "Kx = np.arange(1, 2*F+1, 1)"
   ]
  },
  {
   "cell_type": "code",
   "execution_count": 49,
   "metadata": {},
   "outputs": [],
   "source": [
    "impdist = np.zeros(Kx.shape[0])\n",
    "for i, k in enumerate(Kx):\n",
    "    impdist[i] = imp_dist(F, k, r, t)"
   ]
  },
  {
   "cell_type": "code",
   "execution_count": 50,
   "metadata": {},
   "outputs": [
    {
     "data": {
      "image/png": "[encoded data removed]",
      "text/plain": [
       "<Figure size 432x288 with 1 Axes>"
      ]
     },
     "metadata": {
      "needs_background": "light"
     },
     "output_type": "display_data"
    }
   ],
   "source": [
    "plt.plot(Kx/F, impdist)\n",
    "plt.title(\"Implied Distribution from SVI model\")\n",
    "plt.xlabel(\"Strike(Moneyness)\");"
   ]
  },
  {
   "cell_type": "markdown",
   "metadata": {},
   "source": [
    "(d)"
   ]
  },
  {
   "cell_type": "markdown",
   "metadata": {},
   "source": [
    "Use the implied distribution to compute the price of the following European exotic options, where 𝑋0\n",
    "is the current index level and $𝑋_𝑇$ is the final index level:\n",
    "1. Digital call defined in question (b)\n",
    "2. “Reverse convertible” paying off $max (100\\%, 100\\% + 𝑝 \\frac{X_T-X_0}{X_0})$ if $\\frac{X_T}{X_0} > 75\\%$ and $\\frac{X_T}{X_0}$ otherwise, where 𝑝 = 50%. Then solve for 𝑝 to get a price of 100%.\n",
    "3. Option paying off $max (0, \\frac{X_T-X_0}{X_T})$\n",
    "4. Log-contract paying off $−2\\ln{\\frac{X_T}{X_0}}$. Price interpretation?"
   ]
  },
  {
   "cell_type": "markdown",
   "metadata": {},
   "source": [
    "(i)"
   ]
  },
  {
   "cell_type": "code",
   "execution_count": 51,
   "metadata": {},
   "outputs": [],
   "source": [
    "greaterS = np.arange(5448, 2*F, 0.01)\n",
    "pr = (imp_dist(5460, greaterS, r, t)*0.01).sum()"
   ]
  },
  {
   "cell_type": "code",
   "execution_count": 52,
   "metadata": {},
   "outputs": [
    {
     "name": "stdout",
     "output_type": "stream",
     "text": [
      "The digital option price from implied distribution is  0.5802118514299149\n"
     ]
    }
   ],
   "source": [
    "print(\"The digital option price from implied distribution is \", np.exp(-r*t)*pr)"
   ]
  },
  {
   "cell_type": "markdown",
   "metadata": {},
   "source": [
    "(ii)"
   ]
  },
  {
   "cell_type": "code",
   "execution_count": 53,
   "metadata": {},
   "outputs": [],
   "source": [
    "step = 0.01\n",
    "Sx = np.arange(0.1, 2*F, step)\n",
    "# calculate an array of implied distribution probability\n",
    "pr = imp_dist(5460, Sx, r, t)*step"
   ]
  },
  {
   "cell_type": "code",
   "execution_count": 54,
   "metadata": {},
   "outputs": [],
   "source": [
    "def rev_cov(F, S, r, t, pr, p=0.5, ratio=.75, step=0.01, a=a, b=b, rho=rho, m=m, s=s):\n",
    "    '''\n",
    "    calculate the price of reverse convertible\n",
    "    '''\n",
    "    Sx = np.arange(0.1, 2*F, step)\n",
    "    x = Sx/S\n",
    "    temp = 1+p*(x-1)\n",
    "    payoff = np.where(x>0.75, np.where(1<temp, temp, 1), x)\n",
    "    price = (payoff*pr).sum()\n",
    "    return np.exp(-r*t)*price\n",
    "            "
   ]
  },
  {
   "cell_type": "code",
   "execution_count": 55,
   "metadata": {},
   "outputs": [],
   "source": [
    "rc_price = rev_cov(F, S, r, t, pr)"
   ]
  },
  {
   "cell_type": "code",
   "execution_count": 56,
   "metadata": {},
   "outputs": [
    {
     "name": "stdout",
     "output_type": "stream",
     "text": [
      "The price of Reverse convertible is 99.03384637409032%\n"
     ]
    }
   ],
   "source": [
    "print(f\"The price of Reverse convertible is {rc_price*100}%\")"
   ]
  },
  {
   "cell_type": "code",
   "execution_count": 57,
   "metadata": {},
   "outputs": [],
   "source": [
    "def objective(p,):\n",
    "    return np.abs(rev_cov(F, S, r, t, pr, p=p)-1)"
   ]
  },
  {
   "cell_type": "code",
   "execution_count": 58,
   "metadata": {},
   "outputs": [],
   "source": [
    "op_p = minimize(objective, x0=0.5,)"
   ]
  },
  {
   "cell_type": "code",
   "execution_count": 59,
   "metadata": {},
   "outputs": [
    {
     "name": "stdout",
     "output_type": "stream",
     "text": [
      "p that gets a price of 100% is 0.6555125758579129\n"
     ]
    }
   ],
   "source": [
    "print(f\"p that gets a price of 100% is {op_p.x[0]}\")"
   ]
  },
  {
   "cell_type": "markdown",
   "metadata": {},
   "source": [
    "(iii)"
   ]
  },
  {
   "cell_type": "code",
   "execution_count": 60,
   "metadata": {},
   "outputs": [],
   "source": [
    "payoff = np.where((Sx-5448)/Sx>0, (Sx-5448)/Sx, 0)"
   ]
  },
  {
   "cell_type": "code",
   "execution_count": 61,
   "metadata": {},
   "outputs": [
    {
     "name": "stdout",
     "output_type": "stream",
     "text": [
      "The price for option with payoff in (iii) is 0.05402489803383357\n"
     ]
    }
   ],
   "source": [
    "print(f\"The price for option with payoff in (iii) is {np.exp(-r*t)*(payoff*pr).sum()}\")"
   ]
  },
  {
   "cell_type": "markdown",
   "metadata": {},
   "source": [
    "(iv)"
   ]
  },
  {
   "cell_type": "code",
   "execution_count": 62,
   "metadata": {
    "scrolled": true
   },
   "outputs": [
    {
     "name": "stdout",
     "output_type": "stream",
     "text": [
      "The price of the log-contract payoff option is 0.025826549867520678\n"
     ]
    }
   ],
   "source": [
    "payoff = -2*np.log(Sx/5448)\n",
    "print(f\"The price of the log-contract payoff option is {np.exp(-r*t)*(payoff*pr).sum()}\")"
   ]
  },
  {
   "cell_type": "markdown",
   "metadata": {},
   "source": [
    "The price is same as the price of long a unit of variance swap and short 2 units of return of the stock.\n",
    "\n",
    "$$\n",
    "\\mathbb{E}[-2ln\\frac{S_T}{S_0}] = \\mathbb{E}[\\int_{0}^{T}\\sigma_t^2dt-2\\int_{0}^{T}\\frac{1}{S_t}dS_t]\n",
    "$$"
   ]
  },
  {
   "cell_type": "markdown",
   "metadata": {},
   "source": [
    "## HW2-3"
   ]
  },
  {
   "cell_type": "markdown",
   "metadata": {},
   "source": [
    "Consider a function 𝑓: (0, ∞) → ℝ whose derivative 𝑓′ exists and is\n",
    "absolutely continuous. The first-order Taylor series of 𝑓 at point 𝑎 > 0 with remainder in integral form is\n",
    "then, for all 𝑥 > 0:\n",
    "$$𝑓(𝑥) = 𝑓(𝑎) + 𝑓′(𝑎)(𝑥 − 𝑎) + \\int_a^x𝑓′′(𝑡)(𝑥 − 𝑡)𝑑𝑡$$\n",
    "(Due to absolute continuity of 𝑓′ on the closed interval between 𝑎 and 𝑥 the derivative 𝑓′′ exists as an\n",
    "integrable function.)"
   ]
  },
  {
   "cell_type": "markdown",
   "metadata": {},
   "source": [
    "---"
   ]
  },
  {
   "cell_type": "markdown",
   "metadata": {},
   "source": [
    "### (a) "
   ]
  },
  {
   "cell_type": "markdown",
   "metadata": {},
   "source": [
    "Show that the remainder may be rewritten as:\n",
    "$∫_0^a𝑓′′(𝑡) max(0, 𝑡 − 𝑥) 𝑑𝑡 + \\int_a^\\infty𝑓′′(𝑡) max(0, 𝑥 − 𝑡) 𝑑𝑡$"
   ]
  },
  {
   "cell_type": "markdown",
   "metadata": {},
   "source": [
    "$$ \\int_{a}^{x} f''(t)(x-t) dt $$"
   ]
  },
  {
   "cell_type": "markdown",
   "metadata": {},
   "source": [
    "Let $$z = x-t \\implies z = z_{+} + [-(-z)_{+}] = z_{+} - (-z)_{+}$$"
   ]
  },
  {
   "cell_type": "markdown",
   "metadata": {},
   "source": [
    "Then\n",
    "$$ \\int_{a}^{x} f''(t)(x-t) dt = \\int_{a}^{x} f''(t)z dt = \\int_{a}^{x} f''(t)[z_{+} - (-z)_{+}] dt $$ <br>\n",
    "$$ = \\int_{a}^{x} f''(t)z_{+}dt - \\int_{a}^{x} f''(t)(-z)_{+}dt $$ <br>\n",
    "$$ = \\int_{a}^{x} f''(t)z_{+}dt + \\int_{x}^{a} f''(t)(-z)_{+}dt $$ <br>\n",
    "$$ = \\int_{a}^{x} f''(t)max(0, x-t)dt + \\int_{x}^{a} f''(t)max(0, t-x)dt $$"
   ]
  },
  {
   "cell_type": "markdown",
   "metadata": {},
   "source": [
    "Since\n",
    "$$ \\int_{a}^{x} f''(t)max(0, x-t)dt = \\int_{a}^{\\infty} f''(t)max(0, x-t)dt - \\int_{x}^{\\infty} f''(t)max(0, x-t)dt = \\int_{a}^{\\infty} f''(t)max(0, x-t)dt$$ <br>\n",
    "\n",
    "$$ \\int_{0}^{x} f''(t)max(0, t-x)dt = \\int_{0}^{a} f''(t)max(0, t-x)dt + \\int_{a}^{x} f''(t)max(0, t-x)dt = \\int_{0}^{a} f''(t)max(0, t-x)dt$$"
   ]
  },
  {
   "cell_type": "markdown",
   "metadata": {},
   "source": [
    "We get\n",
    "$$\\int_{a}^{x} f''(t)(x-t) dt = \\int_{a}^{x} f''(t)z_{+}dt + \\int_{x}^{a} f''(t)(-z)_{+}dt = \\int_{a}^{\\infty} f''(t)max(0, x-t)dt + \\int_{0}^{a} f''(t)max(0, t-x)dt\\ \\ \\blacksquare $$"
   ]
  },
  {
   "cell_type": "markdown",
   "metadata": {},
   "source": [
    "### (b)"
   ]
  },
  {
   "cell_type": "markdown",
   "metadata": {},
   "source": [
    "Use your result to show that the variance swap strike pricing formula is:\n",
    "$$\n",
    "K_{var}^2=\\frac{2e^{rT}}{T}\\int_0^F\\frac{dK}{K^2}p(K)+\\frac{2e^{rT}}{T}\\int_F^\\infty\\frac{dK}{K^2}c(K)\n",
    "$$\n",
    "where 𝑟 is the risk-free rate, 𝐹 is the underlying asset’s forward price, and 𝑝(𝐾), 𝑐(𝐾) respectively denote\n",
    "put or call prices for strike K. "
   ]
  },
  {
   "cell_type": "markdown",
   "metadata": {},
   "source": [
    "$$ K^{2}_{var} = \\frac{2}{T}\\mathrm{E}\\left(-ln\\frac{S_{T}}{F}\\right)$$"
   ]
  },
  {
   "cell_type": "markdown",
   "metadata": {},
   "source": [
    "$$ -ln\\frac{S_{T}}{F} = 1 - \\frac{S_{T}}{F} + \\int_{F}^{S_{T}} \\frac{1}{K^{2}}(S_{T}-K)dK$$"
   ]
  },
  {
   "cell_type": "markdown",
   "metadata": {},
   "source": [
    "From part (a), we have\n",
    "$$ \\int_{a}^{x} f''(t)(x-t) dt = \\int_{a}^{\\infty} f''(t)max(0, x-t)dt + \\int_{0}^{a} f''(t)max(0, t-x)dt$$"
   ]
  },
  {
   "cell_type": "markdown",
   "metadata": {},
   "source": [
    "Let\n",
    "$$ f(x) = -ln(x)\\ \\forall x > 0$$"
   ]
  },
  {
   "cell_type": "markdown",
   "metadata": {},
   "source": [
    "Then\n",
    "$$ f\\left(\\frac{S_{T}}{F}\\right) = 1 - \\frac{S_{T}}{F} + \\int_{0}^{F} f''(k)max(K-S_{T},0)dK + \\int_{F}^{\\infty} f''(k)max(S_{T}-K,0)dK$$ <br>\n",
    "\n",
    "$$ \\implies \\mathrm{E}[f(\\frac{S_{T}}{F})] = 0 + \\int_{0}^{F} \\frac{1}{K^{2}}\\mathrm{E}[max(K-S_{T},0)] dK + \\int_{F}^{\\infty} \\frac{1}{K^{2}}\\mathrm{E}[max(S_{T}-K,0)]dK $$ <br>\n",
    "\n",
    "$$ = \\int_{0}^{F} \\frac{1}{K^{2}}e^{rT}p(K) dK + \\int_{F}^{\\infty} \\frac{1}{K^{2}}e^{rT}c(K)dK$$ <br>\n",
    "\n",
    "$$ = e^{rT} [\\int_{0}^{F}\\frac{dK}{K^{2}}p(K) + \\int_{F}^{\\infty} \\frac{dK}{K^{2}}c(K)]$$ <br>"
   ]
  },
  {
   "cell_type": "markdown",
   "metadata": {},
   "source": [
    "Hence\n",
    "$$ K^{2}_{var} = \\frac{2}{T}\\mathrm{E}\\left(-ln\\frac{S_{T}}{F}\\right) = \\frac{2e^{rT}}{T}[\\int_{0}^{F}\\frac{dK}{K^{2}}p(K) + \\int_{F}^{\\infty} \\frac{dK}{K^{2}}c(K)]\\ \\ \\ \\ \\blacksquare$$"
   ]
  },
  {
   "cell_type": "markdown",
   "metadata": {},
   "source": [
    "## HW2-4"
   ]
  },
  {
   "cell_type": "markdown",
   "metadata": {},
   "source": [
    "Consider an underlying stock S currently\n",
    "trading at S0 = 100 which does not pay any dividend. Assume the local volatility function is \n",
    "$$\\sigma_{loc}(𝑡, 𝑆) =\n",
    "0.1 + \\frac{0.1−0.15×ln(\\frac{S}{S_0})}{\\sqrt{t}}\n",
    "$$\n",
    ", and that interest rates are zero."
   ]
  },
  {
   "cell_type": "markdown",
   "metadata": {},
   "source": [
    "---"
   ]
  },
  {
   "cell_type": "markdown",
   "metadata": {},
   "source": [
    "#### (a) Local Volatility Surface"
   ]
  },
  {
   "cell_type": "code",
   "execution_count": 63,
   "metadata": {},
   "outputs": [],
   "source": [
    "def loc_vol(t, S, S0=100):\n",
    "    vol = 0.1 + ((0.1-0.15*np.log(S/S0))/np.sqrt(t))\n",
    "    return vol"
   ]
  },
  {
   "cell_type": "code",
   "execution_count": 64,
   "metadata": {
    "scrolled": true
   },
   "outputs": [
    {
     "data": {
      "image/png": "[encoded data removed]",
      "text/plain": [
       "<Figure size 432x288 with 1 Axes>"
      ]
     },
     "metadata": {
      "needs_background": "light"
     },
     "output_type": "display_data"
    }
   ],
   "source": [
    "Maturity = np.linspace(0.5, 5, 200) \n",
    "Spot = np.linspace(1, 201, 200)\n",
    "\n",
    "Z = [[loc_vol(j, i) for i in Spot] for j in Maturity]\n",
    "fig = plt.figure()\n",
    "ax = fig.gca(projection='3d')\n",
    "X, Y = np.meshgrid(Spot, Maturity)\n",
    "surf = ax.plot_surface(X,Y, np.array(Z), cmap=cm.coolwarm)\n",
    "ax.set_xlabel('Spot')\n",
    "ax.set_ylabel('Maturity')\n",
    "ax.set_zlabel('Volatility')\n",
    "plt.show();"
   ]
  },
  {
   "cell_type": "markdown",
   "metadata": {},
   "source": [
    "#### (b) Price the Options (10000 Simulations)"
   ]
  },
  {
   "cell_type": "code",
   "execution_count": 65,
   "metadata": {},
   "outputs": [],
   "source": [
    "def GBM(S0, r, T): \n",
    "    '''Construct a GBM path'''\n",
    "    \n",
    "    dt = 1/T\n",
    "    dWt = np.random.normal(0, np.sqrt(dt), T)\n",
    "    t = np.linspace(0, 1-1e-6, T+1)\n",
    "    S = [0] * (T+1)\n",
    "    \n",
    "    S[0] = S0\n",
    "    tau = 1 - t[0]\n",
    "    sig = loc_vol(tau, S0+1e-6, S0)\n",
    "    \n",
    "    for i in range(1, T+1):\n",
    "        S[i] = S[i-1] + sig * S[i-1] * dWt[i-1]\n",
    "        if S[i] < 0:\n",
    "            S[i] = 1e-6\n",
    "        tau = 1 - t[i]\n",
    "        sig = loc_vol(tau, S[i], S0)\n",
    "    \n",
    "    return S"
   ]
  },
  {
   "cell_type": "code",
   "execution_count": 66,
   "metadata": {},
   "outputs": [],
   "source": [
    "S0 = 100\n",
    "r = 0\n",
    "T = 252\n",
    "sim = 10000\n",
    "\n",
    "cq_price = 0\n",
    "asian_price = 0\n",
    "barr_price = 0\n",
    "\n",
    "for i in range(sim):\n",
    "    S = GBM(S0, r, T)\n",
    "    S25 = S[len(S)//4]\n",
    "    S50 = S[len(S)//2]\n",
    "    S75 = S[len(S)//4*3]\n",
    "    S100 = S[-1]\n",
    "    \n",
    "    cq_price += min(1, S100**2/S0**2)\n",
    "    asian_price += max(0, (S25+S50+S75+S100)/(4*S0)-1)\n",
    "    \n",
    "    barr = all(p >= 80 for p in S)\n",
    "    if barr == True:\n",
    "        barr_price += max(0, S100-S0)\n",
    "        \n",
    "cq_price /= sim\n",
    "asian_price /= sim\n",
    "barr_price /= sim"
   ]
  },
  {
   "cell_type": "code",
   "execution_count": 67,
   "metadata": {},
   "outputs": [
    {
     "name": "stdout",
     "output_type": "stream",
     "text": [
      "The price of the \"Capped quadratic\" option is 0.7952992288526821\n",
      "The price of the Asian ATM call option is 0.0659964086031927\n",
      "The price of the Barrier call option is 11.584647477676096\n"
     ]
    }
   ],
   "source": [
    "print(\"The price of the \\\"Capped quadratic\\\" option is\", cq_price)\n",
    "print(\"The price of the Asian ATM call option is\", asian_price)\n",
    "print(\"The price of the Barrier call option is\", barr_price)"
   ]
  }
 ],
 "metadata": {
  "kernelspec": {
   "display_name": "Python 3",
   "language": "python",
   "name": "python3"
  },
  "language_info": {
   "codemirror_mode": {
    "name": "ipython",
    "version": 3
   },
   "file_extension": ".py",
   "mimetype": "text/x-python",
   "name": "python",
   "nbconvert_exporter": "python",
   "pygments_lexer": "ipython3",
   "version": "3.8.3"
  }
 },
 "nbformat": 4,
 "nbformat_minor": 4
}
