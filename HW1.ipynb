{
 "cells": [
  {
   "cell_type": "code",
   "execution_count": 1,
   "metadata": {},
   "outputs": [],
   "source": [
    "import numpy as np \n",
    "import pandas as pd\n",
    "import matplotlib.pyplot as plt \n",
    "from scipy.stats import norm"
   ]
  },
  {
   "cell_type": "markdown",
   "metadata": {},
   "source": [
    "Running the whole program requires around 10 minutes."
   ]
  },
  {
   "cell_type": "markdown",
   "metadata": {},
   "source": [
    "## Problem 1"
   ]
  },
  {
   "cell_type": "markdown",
   "metadata": {},
   "source": [
    "You are short 100 at-the-money call option contracts on the S&P 500 index expiring in one year\n",
    "with a contract multiplier of 100. The current index level is 2600, the interest and dividend rates are zero.\n",
    "Simulate the evolution of the index level at periods Δ𝑡 as a geometric Brownian motion with volatility 𝜎\n",
    "(free parameter) and calculate the corresponding call value, delta, gamma and theta using a fixed 20%\n",
    "implied volatility. Then simulate your actual cumulative P&L when periodically delta-hedging your\n",
    "position (assuming you can trade the index as an asset) and compare it against the proxy formula on slide\n",
    "11 for the following matrix of parameters:"
   ]
  },
  {
   "cell_type": "code",
   "execution_count": 2,
   "metadata": {},
   "outputs": [],
   "source": [
    "def Delta(S, K, tau, r, sigma):\n",
    "    '''delta of a call option'''\n",
    "    \n",
    "    d1 = (np.log(S / K) + (r + 0.5 * sigma ** 2) * tau) / (sigma * np.sqrt(tau))\n",
    "    delta = norm.cdf(d1)\n",
    "    \n",
    "    return delta "
   ]
  },
  {
   "cell_type": "code",
   "execution_count": 3,
   "metadata": {},
   "outputs": [],
   "source": [
    "def Gamma(S, K, tau, r, sigma):\n",
    "    '''gamma of a call option'''\n",
    "    \n",
    "    d1 = (np.log(S / K) + (r + 0.5 * sigma ** 2) * tau) / (sigma * np.sqrt(tau))\n",
    "    pdf = 1 / np.sqrt(2 * np.pi) * np.exp(-0.5 * d1**2)\n",
    "    gamma = pdf / (S * sigma * np.sqrt(tau))\n",
    "    \n",
    "    return gamma"
   ]
  },
  {
   "cell_type": "code",
   "execution_count": 4,
   "metadata": {},
   "outputs": [],
   "source": [
    "def Theta(S, K, tau, r, sigma):\n",
    "    \n",
    "    d1 = (np.log(S / K) + (r + 0.5 * sigma ** 2) * tau) / (sigma * np.sqrt(tau))\n",
    "    d2 = (np.log(S / K) + (r - 0.5 * sigma ** 2) * tau) / (sigma * np.sqrt(tau))\n",
    "    \n",
    "    pdf = 1 / np.sqrt(2 * np.pi) * np.exp(-0.5 * d1**2)\n",
    "    theta = (-sigma * S * pdf) / (2 * np.sqrt(tau)) - r * K * np.exp(-r * tau) * norm.cdf(d2)\n",
    "    \n",
    "    return theta"
   ]
  },
  {
   "cell_type": "code",
   "execution_count": 5,
   "metadata": {},
   "outputs": [],
   "source": [
    "def call(S, K, tau, r, sigma):\n",
    "    '''price a call option by using the BS formula'''\n",
    "    \n",
    "    d1 = (np.log(S / K) + (r + 0.5 * sigma ** 2) * tau) / (sigma * np.sqrt(tau))\n",
    "    d2 = (np.log(S / K) + (r - 0.5 * sigma ** 2) * tau) / (sigma * np.sqrt(tau))    \n",
    "    price = S * norm.cdf(d1) - K * np.exp(-r * tau) * norm.cdf(d2)\n",
    "    \n",
    "    return price"
   ]
  },
  {
   "cell_type": "code",
   "execution_count": 6,
   "metadata": {},
   "outputs": [],
   "source": [
    "def GBM(S0, r, sig, T): \n",
    "    '''Construct a GBM path'''\n",
    "    \n",
    "    dt = 1/T\n",
    "    dWt = np.random.normal(0, np.sqrt(dt), T)\n",
    "    Wt = np.cumsum(dWt)\n",
    "    t = np.linspace(0, 1, T+1)\n",
    "    S = [S0]\n",
    "    \n",
    "    for i in range(1, T+1):\n",
    "        St = S0 * np.exp((r - 0.5 * sig**2) * t[i-1] + sig * Wt[i-1])\n",
    "        S.append(St)\n",
    "    \n",
    "    tau = 1-t # time to maturity\n",
    "    return S, tau"
   ]
  },
  {
   "cell_type": "code",
   "execution_count": 7,
   "metadata": {},
   "outputs": [],
   "source": [
    "def PnL_Calculator(sigma, T, S0=2600, K=2600, r=0, vol=0.2, N=10000, num_contract=100, multiplier=100):\n",
    "\n",
    "    actual = [0] * N\n",
    "    proxy = [0] * N\n",
    "    \n",
    "    d = [] # list of delta value\n",
    "    g = [] # list of gamma value\n",
    "    t = [] # list of theta value\n",
    "    c = [] # list of call value\n",
    "    \n",
    "    for i in range(N): \n",
    "        S, tau = GBM(S0, r, sigma, T) # index level and time to maturity\n",
    "        dt = 1/T # delta_t\n",
    "        delta_old = Delta(S[0], K, tau[0], r, vol) # initial delta \n",
    "        \n",
    "        for j in range(T):   \n",
    "            gamma = Gamma(S[j], K, tau[j], r, vol) # calculate gamma \n",
    "            \n",
    "            if N == 1:\n",
    "                theta = Theta(S[j], K, tau[j], r, vol) # calculate theta\n",
    "                opt = call(S[j], K, tau[j], r, vol) # calculate the value of call\n",
    "\n",
    "                d.append(delta_old)\n",
    "                g.append(gamma)\n",
    "                t.append(theta)\n",
    "                c.append(opt)\n",
    "            \n",
    "            # calculate the estimate of cumulative PnL\n",
    "            proxy[i] += -0.5*gamma*S[j]**2*(((S[j+1]-S[j])/S[j])**2-(vol*np.sqrt(dt))**2)*num_contract*multiplier\n",
    "            \n",
    "            if j == 0:\n",
    "                # proceeds of shorting 100 call and purchasing delta share of index\n",
    "                actual[i] = (call(S[j], K, tau[j], r, vol) - delta_old*S[j]) * num_contract * multiplier\n",
    "                continue\n",
    "            \n",
    "            delta_new = Delta(S[j], K, tau[j], r, vol) # new delta according to index movement\n",
    "            actual[i] += -(delta_new - delta_old) * S[j] * num_contract * multiplier # delta-hedging every period\n",
    "            delta_old = delta_new # update delta\n",
    "        \n",
    "        # proceeds in the last period: proceeds of selling all shares minus loss if the options are exercised\n",
    "        actual[i] += (-max(S[-1]-K, 0) + delta_new * S[-1]) * num_contract * multiplier\n",
    "        \n",
    "    return np.mean(actual), np.mean(proxy), np.std(actual), np.std(proxy), d, g, t, c"
   ]
  },
  {
   "cell_type": "code",
   "execution_count": 8,
   "metadata": {
    "scrolled": true
   },
   "outputs": [
    {
     "name": "stdout",
     "output_type": "stream",
     "text": [
      "The price of one call option is 207.10475384055053\n",
      "The initial delta is 0.539827837277029\n",
      "The initial gamma is 0.0007633702836096381\n",
      "The initial theta is -103.20766234402306\n"
     ]
    }
   ],
   "source": [
    "print('The price of one call option is', call(2600, 2600, 1, 0, 0.2))\n",
    "print('The initial delta is', Delta(2600, 2600, 1, 0, 0.2))\n",
    "print('The initial gamma is', Gamma(2600, 2600, 1, 0, 0.2))\n",
    "print('The initial theta is', Theta(2600, 2600, 1, 0, 0.2))"
   ]
  },
  {
   "cell_type": "markdown",
   "metadata": {},
   "source": [
    "#### Value of call, delta, gamma, and theta on 252 trading days base on 1 simulation. $\\sigma$ = 0.2"
   ]
  },
  {
   "cell_type": "code",
   "execution_count": 9,
   "metadata": {},
   "outputs": [],
   "source": [
    "de, ga, th, ca = PnL_Calculator(0.2, 252, N=1)[4:]\n",
    "time = list(range(1, 253))"
   ]
  },
  {
   "cell_type": "code",
   "execution_count": 10,
   "metadata": {},
   "outputs": [
    {
     "data": {
      "image/png": "[encoded data removed]",
      "text/plain": [
       "<Figure size 432x288 with 1 Axes>"
      ]
     },
     "metadata": {},
     "output_type": "display_data"
    }
   ],
   "source": [
    "plt.plot(time, ca)\n",
    "plt.title('Value of a Call on 252 Trading Days, $\\sigma$ = 0.2');"
   ]
  },
  {
   "cell_type": "code",
   "execution_count": 11,
   "metadata": {},
   "outputs": [
    {
     "data": {
      "image/png": "[encoded data removed]",
      "text/plain": [
       "<Figure size 432x288 with 1 Axes>"
      ]
     },
     "metadata": {},
     "output_type": "display_data"
    }
   ],
   "source": [
    "plt.plot(time, de)\n",
    "plt.title('Value of Delta on 252 Trading Days, $\\sigma$ = 0.2');"
   ]
  },
  {
   "cell_type": "code",
   "execution_count": 12,
   "metadata": {
    "scrolled": true
   },
   "outputs": [
    {
     "data": {
      "image/png": "[encoded data removed]",
      "text/plain": [
       "<Figure size 432x288 with 1 Axes>"
      ]
     },
     "metadata": {},
     "output_type": "display_data"
    }
   ],
   "source": [
    "plt.plot(time, ga);\n",
    "plt.title('Value of Gamma on 252 Trading Days, $\\sigma$ = 0.2');"
   ]
  },
  {
   "cell_type": "code",
   "execution_count": 13,
   "metadata": {},
   "outputs": [
    {
     "data": {
      "image/png": "[encoded data removed]",
      "text/plain": [
       "<Figure size 432x288 with 1 Axes>"
      ]
     },
     "metadata": {},
     "output_type": "display_data"
    }
   ],
   "source": [
    "plt.plot(time, th);\n",
    "plt.title('Value of Theta on 252 Trading Days, $\\sigma$ = 0.2');"
   ]
  },
  {
   "cell_type": "markdown",
   "metadata": {},
   "source": [
    "### Statistical Analysis (10000 Simulations)"
   ]
  },
  {
   "cell_type": "code",
   "execution_count": 14,
   "metadata": {},
   "outputs": [],
   "source": [
    "T = [12, 52, 252]\n",
    "\n",
    "pnl25 = [PnL_Calculator(0.25, t) for t in T]\n",
    "pnl20 = [PnL_Calculator(0.20, t) for t in T]\n",
    "pnl15 = [PnL_Calculator(0.15, t) for t in T]"
   ]
  },
  {
   "cell_type": "code",
   "execution_count": 15,
   "metadata": {},
   "outputs": [],
   "source": [
    "act25mean = [x[0] for x in pnl25]\n",
    "act20mean = [x[0] for x in pnl20]\n",
    "act15mean = [x[0] for x in pnl15]\n",
    "\n",
    "pro25mean = [x[1] for x in pnl25]\n",
    "pro20mean = [x[1] for x in pnl20]\n",
    "pro15mean = [x[1] for x in pnl15]\n",
    "\n",
    "act25std = [x[2] for x in pnl25]\n",
    "act20std = [x[2] for x in pnl20]\n",
    "act15std = [x[2] for x in pnl15]\n",
    "\n",
    "pro25std = [x[3] for x in pnl25]\n",
    "pro20std = [x[3] for x in pnl20]\n",
    "pro15std = [x[3] for x in pnl15]"
   ]
  },
  {
   "cell_type": "code",
   "execution_count": 16,
   "metadata": {
    "scrolled": true
   },
   "outputs": [],
   "source": [
    "df_act_mean = pd.DataFrame(np.array([act25mean, act20mean, act15mean]), \\\n",
    "                  index=['$\\sigma$ = 25%', '$\\sigma$ = 20%', '$\\sigma$ = 15%'], \\\n",
    "                  columns=[\"Monthly (12 per year)\", \"Weekly (52 per year)\", \"Daily (252 per year)\"])\n",
    "\n",
    "df_pro_mean = pd.DataFrame(np.array([pro25mean, pro20mean, pro15mean]), \\\n",
    "                  index=['$\\sigma$ = 25%', '$\\sigma$ = 20%', '$\\sigma$ = 15%'], \\\n",
    "                  columns=[\"Monthly (12 per year)\", \"Weekly (52 per year)\", \"Daily (252 per year)\"])\n",
    "\n",
    "df_act_std = pd.DataFrame(np.array([act25std, act20std, act15std]), \\\n",
    "                  index=['$\\sigma$ = 25%', '$\\sigma$ = 20%', '$\\sigma$ = 15%'], \\\n",
    "                  columns=[\"Monthly (12 per year)\", \"Weekly (52 per year)\", \"Daily (252 per year)\"])\n",
    "\n",
    "df_pro_std = pd.DataFrame(np.array([pro25std, pro20std, pro15std]), \\\n",
    "                  index=['$\\sigma$ = 25%', '$\\sigma$ = 20%', '$\\sigma$ = 15%'], \\\n",
    "                  columns=[\"Monthly (12 per year)\", \"Weekly (52 per year)\", \"Daily (252 per year)\"])"
   ]
  },
  {
   "cell_type": "markdown",
   "metadata": {},
   "source": [
    "### Mean"
   ]
  },
  {
   "cell_type": "markdown",
   "metadata": {},
   "source": [
    "Here are the mean of the actual cumulative P&L"
   ]
  },
  {
   "cell_type": "code",
   "execution_count": 17,
   "metadata": {},
   "outputs": [
    {
     "data": {
      "text/html": [
       "<div>\n",
       "<style scoped>\n",
       "    .dataframe tbody tr th:only-of-type {\n",
       "        vertical-align: middle;\n",
       "    }\n",
       "\n",
       "    .dataframe tbody tr th {\n",
       "        vertical-align: top;\n",
       "    }\n",
       "\n",
       "    .dataframe thead th {\n",
       "        text-align: right;\n",
       "    }\n",
       "</style>\n",
       "<table border=\"1\" class=\"dataframe\">\n",
       "  <thead>\n",
       "    <tr style=\"text-align: right;\">\n",
       "      <th></th>\n",
       "      <th>Monthly (12 per year)</th>\n",
       "      <th>Weekly (52 per year)</th>\n",
       "      <th>Daily (252 per year)</th>\n",
       "    </tr>\n",
       "  </thead>\n",
       "  <tbody>\n",
       "    <tr>\n",
       "      <th>$\\sigma$ = 25%</th>\n",
       "      <td>-520080.353183</td>\n",
       "      <td>-518799.665619</td>\n",
       "      <td>-512567.267693</td>\n",
       "    </tr>\n",
       "    <tr>\n",
       "      <th>$\\sigma$ = 20%</th>\n",
       "      <td>-1290.761410</td>\n",
       "      <td>1518.299343</td>\n",
       "      <td>-1335.127699</td>\n",
       "    </tr>\n",
       "    <tr>\n",
       "      <th>$\\sigma$ = 15%</th>\n",
       "      <td>518827.100762</td>\n",
       "      <td>515067.049554</td>\n",
       "      <td>517386.612339</td>\n",
       "    </tr>\n",
       "  </tbody>\n",
       "</table>\n",
       "</div>"
      ],
      "text/plain": [
       "                Monthly (12 per year)  Weekly (52 per year)  \\\n",
       "$\\sigma$ = 25%         -520080.353183        -518799.665619   \n",
       "$\\sigma$ = 20%           -1290.761410           1518.299343   \n",
       "$\\sigma$ = 15%          518827.100762         515067.049554   \n",
       "\n",
       "                Daily (252 per year)  \n",
       "$\\sigma$ = 25%        -512567.267693  \n",
       "$\\sigma$ = 20%          -1335.127699  \n",
       "$\\sigma$ = 15%         517386.612339  "
      ]
     },
     "execution_count": 17,
     "metadata": {},
     "output_type": "execute_result"
    }
   ],
   "source": [
    "df_act_mean"
   ]
  },
  {
   "cell_type": "markdown",
   "metadata": {},
   "source": [
    "Here are the mean of the proxy cumulative P&L calculated by the formula"
   ]
  },
  {
   "cell_type": "code",
   "execution_count": 18,
   "metadata": {
    "scrolled": true
   },
   "outputs": [
    {
     "data": {
      "text/html": [
       "<div>\n",
       "<style scoped>\n",
       "    .dataframe tbody tr th:only-of-type {\n",
       "        vertical-align: middle;\n",
       "    }\n",
       "\n",
       "    .dataframe tbody tr th {\n",
       "        vertical-align: top;\n",
       "    }\n",
       "\n",
       "    .dataframe thead th {\n",
       "        text-align: right;\n",
       "    }\n",
       "</style>\n",
       "<table border=\"1\" class=\"dataframe\">\n",
       "  <thead>\n",
       "    <tr style=\"text-align: right;\">\n",
       "      <th></th>\n",
       "      <th>Monthly (12 per year)</th>\n",
       "      <th>Weekly (52 per year)</th>\n",
       "      <th>Daily (252 per year)</th>\n",
       "    </tr>\n",
       "  </thead>\n",
       "  <tbody>\n",
       "    <tr>\n",
       "      <th>$\\sigma$ = 25%</th>\n",
       "      <td>-529162.433388</td>\n",
       "      <td>-519902.743534</td>\n",
       "      <td>-512958.465516</td>\n",
       "    </tr>\n",
       "    <tr>\n",
       "      <th>$\\sigma$ = 20%</th>\n",
       "      <td>-1955.521097</td>\n",
       "      <td>2133.968741</td>\n",
       "      <td>-1307.622332</td>\n",
       "    </tr>\n",
       "    <tr>\n",
       "      <th>$\\sigma$ = 15%</th>\n",
       "      <td>512685.744617</td>\n",
       "      <td>513759.773268</td>\n",
       "      <td>516785.769155</td>\n",
       "    </tr>\n",
       "  </tbody>\n",
       "</table>\n",
       "</div>"
      ],
      "text/plain": [
       "                Monthly (12 per year)  Weekly (52 per year)  \\\n",
       "$\\sigma$ = 25%         -529162.433388        -519902.743534   \n",
       "$\\sigma$ = 20%           -1955.521097           2133.968741   \n",
       "$\\sigma$ = 15%          512685.744617         513759.773268   \n",
       "\n",
       "                Daily (252 per year)  \n",
       "$\\sigma$ = 25%        -512958.465516  \n",
       "$\\sigma$ = 20%          -1307.622332  \n",
       "$\\sigma$ = 15%         516785.769155  "
      ]
     },
     "execution_count": 18,
     "metadata": {},
     "output_type": "execute_result"
    }
   ],
   "source": [
    "df_pro_mean"
   ]
  },
  {
   "cell_type": "markdown",
   "metadata": {},
   "source": [
    "We can see that the approximated PnL is close to the actual PnL."
   ]
  },
  {
   "cell_type": "markdown",
   "metadata": {},
   "source": [
    "### Standard Deviation"
   ]
  },
  {
   "cell_type": "markdown",
   "metadata": {},
   "source": [
    "Here are the standard deviation of the actual cumulative P&L"
   ]
  },
  {
   "cell_type": "code",
   "execution_count": 19,
   "metadata": {
    "scrolled": true
   },
   "outputs": [
    {
     "data": {
      "text/html": [
       "<div>\n",
       "<style scoped>\n",
       "    .dataframe tbody tr th:only-of-type {\n",
       "        vertical-align: middle;\n",
       "    }\n",
       "\n",
       "    .dataframe tbody tr th {\n",
       "        vertical-align: top;\n",
       "    }\n",
       "\n",
       "    .dataframe thead th {\n",
       "        text-align: right;\n",
       "    }\n",
       "</style>\n",
       "<table border=\"1\" class=\"dataframe\">\n",
       "  <thead>\n",
       "    <tr style=\"text-align: right;\">\n",
       "      <th></th>\n",
       "      <th>Monthly (12 per year)</th>\n",
       "      <th>Weekly (52 per year)</th>\n",
       "      <th>Daily (252 per year)</th>\n",
       "    </tr>\n",
       "  </thead>\n",
       "  <tbody>\n",
       "    <tr>\n",
       "      <th>$\\sigma$ = 25%</th>\n",
       "      <td>668891.794659</td>\n",
       "      <td>386051.244448</td>\n",
       "      <td>257082.930837</td>\n",
       "    </tr>\n",
       "    <tr>\n",
       "      <th>$\\sigma$ = 20%</th>\n",
       "      <td>495543.653998</td>\n",
       "      <td>248268.189272</td>\n",
       "      <td>114298.307111</td>\n",
       "    </tr>\n",
       "    <tr>\n",
       "      <th>$\\sigma$ = 15%</th>\n",
       "      <td>415645.497028</td>\n",
       "      <td>246652.808463</td>\n",
       "      <td>188837.475254</td>\n",
       "    </tr>\n",
       "  </tbody>\n",
       "</table>\n",
       "</div>"
      ],
      "text/plain": [
       "                Monthly (12 per year)  Weekly (52 per year)  \\\n",
       "$\\sigma$ = 25%          668891.794659         386051.244448   \n",
       "$\\sigma$ = 20%          495543.653998         248268.189272   \n",
       "$\\sigma$ = 15%          415645.497028         246652.808463   \n",
       "\n",
       "                Daily (252 per year)  \n",
       "$\\sigma$ = 25%         257082.930837  \n",
       "$\\sigma$ = 20%         114298.307111  \n",
       "$\\sigma$ = 15%         188837.475254  "
      ]
     },
     "execution_count": 19,
     "metadata": {},
     "output_type": "execute_result"
    }
   ],
   "source": [
    "df_act_std"
   ]
  },
  {
   "cell_type": "markdown",
   "metadata": {},
   "source": [
    "Here are the standard deviation of the proxy cumulative P&L calculated by the formula"
   ]
  },
  {
   "cell_type": "code",
   "execution_count": 20,
   "metadata": {
    "scrolled": true
   },
   "outputs": [
    {
     "data": {
      "text/html": [
       "<div>\n",
       "<style scoped>\n",
       "    .dataframe tbody tr th:only-of-type {\n",
       "        vertical-align: middle;\n",
       "    }\n",
       "\n",
       "    .dataframe tbody tr th {\n",
       "        vertical-align: top;\n",
       "    }\n",
       "\n",
       "    .dataframe thead th {\n",
       "        text-align: right;\n",
       "    }\n",
       "</style>\n",
       "<table border=\"1\" class=\"dataframe\">\n",
       "  <thead>\n",
       "    <tr style=\"text-align: right;\">\n",
       "      <th></th>\n",
       "      <th>Monthly (12 per year)</th>\n",
       "      <th>Weekly (52 per year)</th>\n",
       "      <th>Daily (252 per year)</th>\n",
       "    </tr>\n",
       "  </thead>\n",
       "  <tbody>\n",
       "    <tr>\n",
       "      <th>$\\sigma$ = 25%</th>\n",
       "      <td>675838.116928</td>\n",
       "      <td>382871.221494</td>\n",
       "      <td>254849.287584</td>\n",
       "    </tr>\n",
       "    <tr>\n",
       "      <th>$\\sigma$ = 20%</th>\n",
       "      <td>481869.188827</td>\n",
       "      <td>244257.509850</td>\n",
       "      <td>113858.414333</td>\n",
       "    </tr>\n",
       "    <tr>\n",
       "      <th>$\\sigma$ = 15%</th>\n",
       "      <td>371997.860241</td>\n",
       "      <td>233893.140446</td>\n",
       "      <td>185169.611171</td>\n",
       "    </tr>\n",
       "  </tbody>\n",
       "</table>\n",
       "</div>"
      ],
      "text/plain": [
       "                Monthly (12 per year)  Weekly (52 per year)  \\\n",
       "$\\sigma$ = 25%          675838.116928         382871.221494   \n",
       "$\\sigma$ = 20%          481869.188827         244257.509850   \n",
       "$\\sigma$ = 15%          371997.860241         233893.140446   \n",
       "\n",
       "                Daily (252 per year)  \n",
       "$\\sigma$ = 25%         254849.287584  \n",
       "$\\sigma$ = 20%         113858.414333  \n",
       "$\\sigma$ = 15%         185169.611171  "
      ]
     },
     "execution_count": 20,
     "metadata": {},
     "output_type": "execute_result"
    }
   ],
   "source": [
    "df_pro_std"
   ]
  },
  {
   "cell_type": "markdown",
   "metadata": {},
   "source": [
    "## Problem 2"
   ]
  },
  {
   "cell_type": "markdown",
   "metadata": {},
   "source": [
    "Use your knowledge of how the VIX is calculated to show that the VIX is not the price of an\n",
    "investable asset. What about the square of the VIX?"
   ]
  },
  {
   "cell_type": "markdown",
   "metadata": {},
   "source": [
    "The generalized formula for VIX is:\n",
    "\n",
    "\\begin{equation} \\label{eq1}\n",
    "\\begin{split}\n",
    "\\left(\\frac{VIX}{100}\\right)^2 = \\frac{2e^{rT}}{T}\\sum_{i} \\frac{\\Delta K_i}{K_i^2}Q(K_i) - \\frac{1}{T}\\left(\\frac{F}{K_0} -1\\right)^2 \\\n",
    "\\end{split}\n",
    "\\end{equation}\n",
    "\n",
    "\n",
    "$VIX^2$  is adapted from the variance swap pricing formula, but only using liquid strikes. It’s an approximation of “future” implied volatility at 1M maturity. $VIX^2$ is a tradable assets as a linear combination of tradable assets.\n",
    "But VIX is the square root of that. So it’s not linear in any tradable asset. It has to be replicated from a dynamic hedging/replication."
   ]
  },
  {
   "cell_type": "markdown",
   "metadata": {},
   "source": [
    "## Problem 3"
   ]
  },
  {
   "cell_type": "markdown",
   "metadata": {},
   "source": [
    "On March 29, 2018 the S&P 500 index (SPX) is 2611.53 and the 12-month VIX is 21.28. The\n",
    "implied volatility smile of SPX options expiring on March 15, 2019 is given as:\n",
    "$$\n",
    "\\sigma^*(x) = \\sqrt{a+b(\\rho(x-m)+\\sqrt{(x-m)^2+s^2}}\n",
    "$$\n",
    "where $𝑎 = 0.009, 𝑏 = 0.11, 𝜌 = −0.12, 𝑚 = 0.2, 𝑠 = 0.05, x=\\ln{\\frac{K}{F}}$\n",
    "is log-moneyness and 𝐹 = 2625.10\n",
    "is the forward price. The continuous interest rate is 2.09% p.a."
   ]
  },
  {
   "cell_type": "markdown",
   "metadata": {},
   "source": [
    "### (a) Volatility Surface"
   ]
  },
  {
   "cell_type": "code",
   "execution_count": 21,
   "metadata": {},
   "outputs": [],
   "source": [
    "a = 0.009\n",
    "b = 0.11 \n",
    "rho = -0.12\n",
    "m = 0.2\n",
    "s = 0.05\n",
    "F = 2625.1\n",
    "S = 2611.53\n",
    "r = 0.0209\n",
    "t = 1 - 10/252 # An approximation of time to maturity (two weeks => 10 trading days)"
   ]
  },
  {
   "cell_type": "code",
   "execution_count": 22,
   "metadata": {},
   "outputs": [],
   "source": [
    "sigma = []\n",
    "frac = []\n",
    "for K in range(500, 5001):\n",
    "    sigx = np.sqrt(a + b * (rho * (np.log(K/F) - m) + np.sqrt((np.log(K/F) - m) ** 2 + s ** 2)))\n",
    "    fracKS = K/S\n",
    "    sigma.append(sigx)\n",
    "    frac.append(fracKS)"
   ]
  },
  {
   "cell_type": "code",
   "execution_count": 23,
   "metadata": {},
   "outputs": [
    {
     "data": {
      "image/png": "[encoded data removed]",
      "text/plain": [
       "<Figure size 432x288 with 1 Axes>"
      ]
     },
     "metadata": {},
     "output_type": "display_data"
    }
   ],
   "source": [
    "plt.plot(frac, sigma)\n",
    "plt.ylabel('Implied volatility')\n",
    "plt.xlabel('K/S')\n",
    "plt.show();"
   ]
  },
  {
   "cell_type": "markdown",
   "metadata": {},
   "source": [
    "### (b) Fair Variance Swap Strike"
   ]
  },
  {
   "cell_type": "markdown",
   "metadata": {},
   "source": [
    "$$ VIX = \\sqrt{\\mathrm{E}[\\int_{0}^{T} \\sigma_{t}^{2} dt]}$$"
   ]
  },
  {
   "cell_type": "code",
   "execution_count": 24,
   "metadata": {},
   "outputs": [],
   "source": [
    "def put(S, K, tau, r, sigma):\n",
    "    \n",
    "    d1 = (np.log(S / K) + (r + 0.5 * sigma ** 2) * tau) / (sigma * np.sqrt(tau))\n",
    "    d2 = (np.log(S / K) + (r - 0.5 * sigma ** 2) * tau) / (sigma * np.sqrt(tau))    \n",
    "    price = K * np.exp(-r * tau) * norm.cdf(-d2, 0.0, 1.0) - S * norm.cdf(-d1, 0.0, 1.0)\n",
    "    \n",
    "    return price"
   ]
  },
  {
   "cell_type": "code",
   "execution_count": 25,
   "metadata": {},
   "outputs": [],
   "source": [
    "val = 0\n",
    "\n",
    "# Calculate fair value of annualized variance\n",
    "for K in range(500, 5001):\n",
    "    vol = sigma[K-500]\n",
    "    if K < F: \n",
    "        # Long all puts struck at K < F\n",
    "        val += put(S, K, t, r, vol) / K**2 * 1\n",
    "    else:\n",
    "        # Long all calls struck at K > F\n",
    "        val += call(S, K, t, r, vol) / K**2 * 1"
   ]
  },
  {
   "cell_type": "code",
   "execution_count": 26,
   "metadata": {},
   "outputs": [
    {
     "name": "stdout",
     "output_type": "stream",
     "text": [
      "The fair variance swap strike is 0.04360712741967372\n"
     ]
    }
   ],
   "source": [
    "K2_var = 2 * np.exp(r*t)/t * val\n",
    "print('The fair variance swap strike is', K2_var)"
   ]
  },
  {
   "cell_type": "code",
   "execution_count": 27,
   "metadata": {},
   "outputs": [
    {
     "name": "stdout",
     "output_type": "stream",
     "text": [
      "Our calculated VIX is 20.882319655554006\n"
     ]
    }
   ],
   "source": [
    "cal_vix = 100 * np.sqrt(K2_var)\n",
    "print('Our calculated VIX is', cal_vix)"
   ]
  },
  {
   "cell_type": "markdown",
   "metadata": {},
   "source": [
    "It is very close to the 12-month VIX, but it is not exactly the same. This is becasue we use 4500 strikes for calculation. In practice, there may not be so many strikes available, and also the strikes in the market is very likely to be different from what we use here. "
   ]
  }
 ],
 "metadata": {
  "kernelspec": {
   "display_name": "Python 3",
   "language": "python",
   "name": "python3"
  },
  "language_info": {
   "codemirror_mode": {
    "name": "ipython",
    "version": 3
   },
   "file_extension": ".py",
   "mimetype": "text/x-python",
   "name": "python",
   "nbconvert_exporter": "python",
   "pygments_lexer": "ipython3",
   "version": "3.8.3"
  },
  "nteract": {
   "version": "0.22.4"
  }
 },
 "nbformat": 4,
 "nbformat_minor": 2
}
